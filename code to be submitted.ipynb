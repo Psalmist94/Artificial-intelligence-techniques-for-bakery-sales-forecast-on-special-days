{
 "cells": [
  {
   "cell_type": "code",
   "execution_count": 2,
   "id": "d7c6ce18",
   "metadata": {
    "scrolled": true
   },
   "outputs": [
    {
     "name": "stdout",
     "output_type": "stream",
     "text": [
      "Requirement already satisfied: pandas in c:\\users\\lim\\anaconda3\\lib\\site-packages (1.4.4)\n",
      "Requirement already satisfied: numpy>=1.18.5 in c:\\users\\lim\\anaconda3\\lib\\site-packages (from pandas) (1.21.5)\n",
      "Requirement already satisfied: python-dateutil>=2.8.1 in c:\\users\\lim\\anaconda3\\lib\\site-packages (from pandas) (2.8.2)\n",
      "Requirement already satisfied: pytz>=2020.1 in c:\\users\\lim\\anaconda3\\lib\\site-packages (from pandas) (2022.1)\n",
      "Requirement already satisfied: six>=1.5 in c:\\users\\lim\\anaconda3\\lib\\site-packages (from python-dateutil>=2.8.1->pandas) (1.16.0)\n",
      "Requirement already satisfied: matplotlib in c:\\users\\lim\\anaconda3\\lib\\site-packages (3.5.2)\n",
      "Requirement already satisfied: pillow>=6.2.0 in c:\\users\\lim\\anaconda3\\lib\\site-packages (from matplotlib) (9.2.0)\n",
      "Requirement already satisfied: numpy>=1.17 in c:\\users\\lim\\anaconda3\\lib\\site-packages (from matplotlib) (1.21.5)\n",
      "Requirement already satisfied: pyparsing>=2.2.1 in c:\\users\\lim\\anaconda3\\lib\\site-packages (from matplotlib) (3.0.9)\n",
      "Requirement already satisfied: packaging>=20.0 in c:\\users\\lim\\anaconda3\\lib\\site-packages (from matplotlib) (21.3)\n",
      "Requirement already satisfied: python-dateutil>=2.7 in c:\\users\\lim\\anaconda3\\lib\\site-packages (from matplotlib) (2.8.2)\n",
      "Requirement already satisfied: kiwisolver>=1.0.1 in c:\\users\\lim\\anaconda3\\lib\\site-packages (from matplotlib) (1.4.2)\n",
      "Requirement already satisfied: fonttools>=4.22.0 in c:\\users\\lim\\anaconda3\\lib\\site-packages (from matplotlib) (4.25.0)\n",
      "Requirement already satisfied: cycler>=0.10 in c:\\users\\lim\\anaconda3\\lib\\site-packages (from matplotlib) (0.11.0)\n",
      "Requirement already satisfied: six>=1.5 in c:\\users\\lim\\anaconda3\\lib\\site-packages (from python-dateutil>=2.7->matplotlib) (1.16.0)\n",
      "Requirement already satisfied: xlrd==1.2.0 in c:\\users\\lim\\anaconda3\\lib\\site-packages (1.2.0)\n",
      "Requirement already satisfied: openpyxl in c:\\users\\lim\\anaconda3\\lib\\site-packages (3.0.10)\n",
      "Requirement already satisfied: et_xmlfile in c:\\users\\lim\\anaconda3\\lib\\site-packages (from openpyxl) (1.1.0)\n"
     ]
    }
   ],
   "source": [
    "!pip install pandas\n",
    "!pip install matplotlib\n",
    "!pip install xlrd==1.2.0\n",
    "!pip install openpyxl"
   ]
  },
  {
   "cell_type": "code",
   "execution_count": 3,
   "id": "88256369",
   "metadata": {},
   "outputs": [],
   "source": [
    "import pandas as pd\n",
    "import numpy as np\n",
    "import re as re\n",
    "import matplotlib.pylab as plt\n",
    "import seaborn as sns\n",
    "from sklearn.model_selection import train_test_split\n",
    "from sklearn.linear_model import LinearRegression\n",
    "from sklearn.ensemble import RandomForestRegressor\n",
    "from sklearn.ensemble import GradientBoostingRegressor\n",
    "from sklearn import preprocessing\n",
    "from sklearn.svm import SVR\n",
    "from sklearn.preprocessing import LabelEncoder, StandardScaler\n",
    "from sklearn.preprocessing import MinMaxScaler\n",
    "from sklearn import metrics\n",
    "from sklearn.ensemble import RandomForestRegressor"
   ]
  },
  {
   "cell_type": "code",
   "execution_count": 4,
   "id": "b0db4cd7",
   "metadata": {
    "scrolled": true
   },
   "outputs": [
    {
     "data": {
      "text/html": [
       "<div>\n",
       "<style scoped>\n",
       "    .dataframe tbody tr th:only-of-type {\n",
       "        vertical-align: middle;\n",
       "    }\n",
       "\n",
       "    .dataframe tbody tr th {\n",
       "        vertical-align: top;\n",
       "    }\n",
       "\n",
       "    .dataframe thead th {\n",
       "        text-align: right;\n",
       "    }\n",
       "</style>\n",
       "<table border=\"1\" class=\"dataframe\">\n",
       "  <thead>\n",
       "    <tr style=\"text-align: right;\">\n",
       "      <th></th>\n",
       "      <th>Unnamed: 0</th>\n",
       "      <th>date</th>\n",
       "      <th>time</th>\n",
       "      <th>ticket_number</th>\n",
       "      <th>article</th>\n",
       "      <th>Quantity</th>\n",
       "      <th>unit_price</th>\n",
       "    </tr>\n",
       "  </thead>\n",
       "  <tbody>\n",
       "    <tr>\n",
       "      <th>0</th>\n",
       "      <td>0</td>\n",
       "      <td>1/2/2021</td>\n",
       "      <td>8:38</td>\n",
       "      <td>150040</td>\n",
       "      <td>BAGUETTE</td>\n",
       "      <td>1</td>\n",
       "      <td>0,90 €</td>\n",
       "    </tr>\n",
       "    <tr>\n",
       "      <th>1</th>\n",
       "      <td>1</td>\n",
       "      <td>1/2/2021</td>\n",
       "      <td>8:38</td>\n",
       "      <td>150040</td>\n",
       "      <td>PAIN AU CHOCOLAT</td>\n",
       "      <td>3</td>\n",
       "      <td>1,20 €</td>\n",
       "    </tr>\n",
       "    <tr>\n",
       "      <th>2</th>\n",
       "      <td>4</td>\n",
       "      <td>1/2/2021</td>\n",
       "      <td>9:14</td>\n",
       "      <td>150041</td>\n",
       "      <td>PAIN AU CHOCOLAT</td>\n",
       "      <td>2</td>\n",
       "      <td>1,20 €</td>\n",
       "    </tr>\n",
       "    <tr>\n",
       "      <th>3</th>\n",
       "      <td>5</td>\n",
       "      <td>1/2/2021</td>\n",
       "      <td>9:14</td>\n",
       "      <td>150041</td>\n",
       "      <td>PAIN</td>\n",
       "      <td>1</td>\n",
       "      <td>1,15 €</td>\n",
       "    </tr>\n",
       "    <tr>\n",
       "      <th>4</th>\n",
       "      <td>8</td>\n",
       "      <td>1/2/2021</td>\n",
       "      <td>9:25</td>\n",
       "      <td>150042</td>\n",
       "      <td>TRADITIONAL BAGUETTE</td>\n",
       "      <td>5</td>\n",
       "      <td>1,20 €</td>\n",
       "    </tr>\n",
       "  </tbody>\n",
       "</table>\n",
       "</div>"
      ],
      "text/plain": [
       "   Unnamed: 0      date  time  ticket_number               article  Quantity  \\\n",
       "0           0  1/2/2021  8:38         150040              BAGUETTE         1   \n",
       "1           1  1/2/2021  8:38         150040      PAIN AU CHOCOLAT         3   \n",
       "2           4  1/2/2021  9:14         150041      PAIN AU CHOCOLAT         2   \n",
       "3           5  1/2/2021  9:14         150041                  PAIN         1   \n",
       "4           8  1/2/2021  9:25         150042  TRADITIONAL BAGUETTE         5   \n",
       "\n",
       "  unit_price  \n",
       "0     0,90 €  \n",
       "1     1,20 €  \n",
       "2     1,20 €  \n",
       "3     1,15 €  \n",
       "4     1,20 €  "
      ]
     },
     "execution_count": 4,
     "metadata": {},
     "output_type": "execute_result"
    }
   ],
   "source": [
    "bakery_df = pd.read_csv(\"Bakery_sales.csv\")\n",
    "bakery_df.head()"
   ]
  },
  {
   "cell_type": "code",
   "execution_count": 5,
   "id": "3d89ce5e",
   "metadata": {},
   "outputs": [
    {
     "data": {
      "text/html": [
       "<div>\n",
       "<style scoped>\n",
       "    .dataframe tbody tr th:only-of-type {\n",
       "        vertical-align: middle;\n",
       "    }\n",
       "\n",
       "    .dataframe tbody tr th {\n",
       "        vertical-align: top;\n",
       "    }\n",
       "\n",
       "    .dataframe thead th {\n",
       "        text-align: right;\n",
       "    }\n",
       "</style>\n",
       "<table border=\"1\" class=\"dataframe\">\n",
       "  <thead>\n",
       "    <tr style=\"text-align: right;\">\n",
       "      <th></th>\n",
       "      <th>date</th>\n",
       "      <th>day</th>\n",
       "      <th>holiday</th>\n",
       "    </tr>\n",
       "  </thead>\n",
       "  <tbody>\n",
       "    <tr>\n",
       "      <th>0</th>\n",
       "      <td>1/1/2021</td>\n",
       "      <td>Fri</td>\n",
       "      <td>New Year's Day</td>\n",
       "    </tr>\n",
       "    <tr>\n",
       "      <th>1</th>\n",
       "      <td>4/2/2021</td>\n",
       "      <td>Fri</td>\n",
       "      <td>Good Friday</td>\n",
       "    </tr>\n",
       "    <tr>\n",
       "      <th>2</th>\n",
       "      <td>4/5/2021</td>\n",
       "      <td>Mon</td>\n",
       "      <td>Easter Monday</td>\n",
       "    </tr>\n",
       "    <tr>\n",
       "      <th>3</th>\n",
       "      <td>5/1/2021</td>\n",
       "      <td>Sat</td>\n",
       "      <td>Labour Day</td>\n",
       "    </tr>\n",
       "    <tr>\n",
       "      <th>4</th>\n",
       "      <td>5/8/2021</td>\n",
       "      <td>Sat</td>\n",
       "      <td>Victory Day</td>\n",
       "    </tr>\n",
       "    <tr>\n",
       "      <th>5</th>\n",
       "      <td>5/13/2021</td>\n",
       "      <td>Thu</td>\n",
       "      <td>Ascension Day</td>\n",
       "    </tr>\n",
       "    <tr>\n",
       "      <th>6</th>\n",
       "      <td>5/23/2021</td>\n",
       "      <td>Sun</td>\n",
       "      <td>Whit Sunday</td>\n",
       "    </tr>\n",
       "    <tr>\n",
       "      <th>7</th>\n",
       "      <td>5/24/2021</td>\n",
       "      <td>Mon</td>\n",
       "      <td>Whit Monday</td>\n",
       "    </tr>\n",
       "    <tr>\n",
       "      <th>8</th>\n",
       "      <td>7/14/2021</td>\n",
       "      <td>Wed</td>\n",
       "      <td>Bastille Day</td>\n",
       "    </tr>\n",
       "    <tr>\n",
       "      <th>9</th>\n",
       "      <td>8/15/2021</td>\n",
       "      <td>Sun</td>\n",
       "      <td>Assumption Day</td>\n",
       "    </tr>\n",
       "    <tr>\n",
       "      <th>10</th>\n",
       "      <td>11/1/2021</td>\n",
       "      <td>Mon</td>\n",
       "      <td>All Saints' Day</td>\n",
       "    </tr>\n",
       "    <tr>\n",
       "      <th>11</th>\n",
       "      <td>11/11/2021</td>\n",
       "      <td>Thu</td>\n",
       "      <td>Armistice Day</td>\n",
       "    </tr>\n",
       "    <tr>\n",
       "      <th>12</th>\n",
       "      <td>12/25/2021</td>\n",
       "      <td>Sat</td>\n",
       "      <td>Christmas Day</td>\n",
       "    </tr>\n",
       "    <tr>\n",
       "      <th>13</th>\n",
       "      <td>12/26/2021</td>\n",
       "      <td>Sun</td>\n",
       "      <td>St Stephen's Day</td>\n",
       "    </tr>\n",
       "  </tbody>\n",
       "</table>\n",
       "</div>"
      ],
      "text/plain": [
       "          date  day            holiday\n",
       "0     1/1/2021  Fri     New Year's Day\n",
       "1     4/2/2021  Fri       Good Friday \n",
       "2     4/5/2021  Mon      Easter Monday\n",
       "3     5/1/2021  Sat         Labour Day\n",
       "4     5/8/2021  Sat        Victory Day\n",
       "5    5/13/2021  Thu      Ascension Day\n",
       "6    5/23/2021  Sun        Whit Sunday\n",
       "7    5/24/2021  Mon        Whit Monday\n",
       "8    7/14/2021  Wed       Bastille Day\n",
       "9    8/15/2021  Sun     Assumption Day\n",
       "10   11/1/2021  Mon    All Saints' Day\n",
       "11  11/11/2021  Thu      Armistice Day\n",
       "12  12/25/2021  Sat      Christmas Day\n",
       "13  12/26/2021  Sun  St Stephen's Day "
      ]
     },
     "execution_count": 5,
     "metadata": {},
     "output_type": "execute_result"
    }
   ],
   "source": [
    "dates_df = pd.read_csv(\"special_days.csv\")\n",
    "dates_df.head(14)"
   ]
  },
  {
   "cell_type": "code",
   "execution_count": 6,
   "id": "c0dbeb81",
   "metadata": {},
   "outputs": [
    {
     "data": {
      "text/plain": [
       "0   2021-01-01\n",
       "1   2021-04-02\n",
       "2   2021-04-05\n",
       "3   2021-05-01\n",
       "4   2021-05-08\n",
       "Name: date, dtype: datetime64[ns]"
      ]
     },
     "execution_count": 6,
     "metadata": {},
     "output_type": "execute_result"
    }
   ],
   "source": [
    "dates_df['date'] = pd.to_datetime(dates_df['date'])\n",
    "dates_df['date'].head(5)"
   ]
  },
  {
   "cell_type": "code",
   "execution_count": 7,
   "id": "46a4205a",
   "metadata": {},
   "outputs": [
    {
     "data": {
      "text/plain": [
       "0   2021-01-02\n",
       "1   2021-01-02\n",
       "2   2021-01-02\n",
       "3   2021-01-02\n",
       "4   2021-01-02\n",
       "Name: date, dtype: datetime64[ns]"
      ]
     },
     "execution_count": 7,
     "metadata": {},
     "output_type": "execute_result"
    }
   ],
   "source": [
    "bakery_df['date'] = pd.to_datetime(bakery_df['date'])\n",
    "bakery_df['date'].head(5)"
   ]
  },
  {
   "cell_type": "code",
   "execution_count": 8,
   "id": "86c3d746",
   "metadata": {},
   "outputs": [
    {
     "data": {
      "text/plain": [
       "<bound method NDFrame.head of          date  day            holiday\n",
       "0  2021-01-01  Fri     New Year's Day\n",
       "1  2021-04-02  Fri       Good Friday \n",
       "2  2021-04-05  Mon      Easter Monday\n",
       "3  2021-05-01  Sat         Labour Day\n",
       "4  2021-05-08  Sat        Victory Day\n",
       "5  2021-05-13  Thu      Ascension Day\n",
       "6  2021-05-23  Sun        Whit Sunday\n",
       "7  2021-05-24  Mon        Whit Monday\n",
       "8  2021-07-14  Wed       Bastille Day\n",
       "9  2021-08-15  Sun     Assumption Day\n",
       "10 2021-11-01  Mon    All Saints' Day\n",
       "11 2021-11-11  Thu      Armistice Day\n",
       "12 2021-12-25  Sat      Christmas Day\n",
       "13 2021-12-26  Sun  St Stephen's Day >"
      ]
     },
     "execution_count": 8,
     "metadata": {},
     "output_type": "execute_result"
    }
   ],
   "source": [
    "dates_df.head"
   ]
  },
  {
   "cell_type": "code",
   "execution_count": 9,
   "id": "edcaa62e",
   "metadata": {},
   "outputs": [
    {
     "data": {
      "text/html": [
       "<div>\n",
       "<style scoped>\n",
       "    .dataframe tbody tr th:only-of-type {\n",
       "        vertical-align: middle;\n",
       "    }\n",
       "\n",
       "    .dataframe tbody tr th {\n",
       "        vertical-align: top;\n",
       "    }\n",
       "\n",
       "    .dataframe thead th {\n",
       "        text-align: right;\n",
       "    }\n",
       "</style>\n",
       "<table border=\"1\" class=\"dataframe\">\n",
       "  <thead>\n",
       "    <tr style=\"text-align: right;\">\n",
       "      <th></th>\n",
       "      <th>Unnamed: 0</th>\n",
       "      <th>date</th>\n",
       "      <th>time</th>\n",
       "      <th>ticket_number</th>\n",
       "      <th>article</th>\n",
       "      <th>Quantity</th>\n",
       "      <th>unit_price</th>\n",
       "      <th>day</th>\n",
       "      <th>holiday</th>\n",
       "    </tr>\n",
       "  </thead>\n",
       "  <tbody>\n",
       "    <tr>\n",
       "      <th>0</th>\n",
       "      <td>NaN</td>\n",
       "      <td>2021-01-01</td>\n",
       "      <td>NaN</td>\n",
       "      <td>NaN</td>\n",
       "      <td>NaN</td>\n",
       "      <td>NaN</td>\n",
       "      <td>NaN</td>\n",
       "      <td>Fri</td>\n",
       "      <td>New Year's Day</td>\n",
       "    </tr>\n",
       "    <tr>\n",
       "      <th>1</th>\n",
       "      <td>52344.0</td>\n",
       "      <td>2021-04-02</td>\n",
       "      <td>7:38</td>\n",
       "      <td>164264.0</td>\n",
       "      <td>FORMULE SANDWICH</td>\n",
       "      <td>2.0</td>\n",
       "      <td>6,50 €</td>\n",
       "      <td>Fri</td>\n",
       "      <td>Good Friday</td>\n",
       "    </tr>\n",
       "    <tr>\n",
       "      <th>2</th>\n",
       "      <td>52347.0</td>\n",
       "      <td>2021-04-02</td>\n",
       "      <td>7:50</td>\n",
       "      <td>164265.0</td>\n",
       "      <td>PAIN AU CHOCOLAT</td>\n",
       "      <td>1.0</td>\n",
       "      <td>1,20 €</td>\n",
       "      <td>Fri</td>\n",
       "      <td>Good Friday</td>\n",
       "    </tr>\n",
       "    <tr>\n",
       "      <th>3</th>\n",
       "      <td>52348.0</td>\n",
       "      <td>2021-04-02</td>\n",
       "      <td>7:50</td>\n",
       "      <td>164265.0</td>\n",
       "      <td>BAGUETTE</td>\n",
       "      <td>1.0</td>\n",
       "      <td>0,90 €</td>\n",
       "      <td>Fri</td>\n",
       "      <td>Good Friday</td>\n",
       "    </tr>\n",
       "    <tr>\n",
       "      <th>4</th>\n",
       "      <td>52351.0</td>\n",
       "      <td>2021-04-02</td>\n",
       "      <td>7:51</td>\n",
       "      <td>164266.0</td>\n",
       "      <td>COOKIE</td>\n",
       "      <td>1.0</td>\n",
       "      <td>1,00 €</td>\n",
       "      <td>Fri</td>\n",
       "      <td>Good Friday</td>\n",
       "    </tr>\n",
       "    <tr>\n",
       "      <th>...</th>\n",
       "      <td>...</td>\n",
       "      <td>...</td>\n",
       "      <td>...</td>\n",
       "      <td>...</td>\n",
       "      <td>...</td>\n",
       "      <td>...</td>\n",
       "      <td>...</td>\n",
       "      <td>...</td>\n",
       "      <td>...</td>\n",
       "    </tr>\n",
       "    <tr>\n",
       "      <th>6951</th>\n",
       "      <td>281867.0</td>\n",
       "      <td>2021-12-26</td>\n",
       "      <td>12:56</td>\n",
       "      <td>226255.0</td>\n",
       "      <td>BOULE 400G</td>\n",
       "      <td>1.0</td>\n",
       "      <td>1,50 €</td>\n",
       "      <td>Sun</td>\n",
       "      <td>St Stephen's Day</td>\n",
       "    </tr>\n",
       "    <tr>\n",
       "      <th>6952</th>\n",
       "      <td>281868.0</td>\n",
       "      <td>2021-12-26</td>\n",
       "      <td>12:56</td>\n",
       "      <td>226255.0</td>\n",
       "      <td>DIVERS BOULANGERIE</td>\n",
       "      <td>1.0</td>\n",
       "      <td>6,00 €</td>\n",
       "      <td>Sun</td>\n",
       "      <td>St Stephen's Day</td>\n",
       "    </tr>\n",
       "    <tr>\n",
       "      <th>6953</th>\n",
       "      <td>281871.0</td>\n",
       "      <td>2021-12-26</td>\n",
       "      <td>12:58</td>\n",
       "      <td>226256.0</td>\n",
       "      <td>PAIN BANETTE</td>\n",
       "      <td>1.0</td>\n",
       "      <td>1,40 €</td>\n",
       "      <td>Sun</td>\n",
       "      <td>St Stephen's Day</td>\n",
       "    </tr>\n",
       "    <tr>\n",
       "      <th>6954</th>\n",
       "      <td>281874.0</td>\n",
       "      <td>2021-12-26</td>\n",
       "      <td>13:00</td>\n",
       "      <td>226257.0</td>\n",
       "      <td>SPECIAL BREAD</td>\n",
       "      <td>1.0</td>\n",
       "      <td>2,40 €</td>\n",
       "      <td>Sun</td>\n",
       "      <td>St Stephen's Day</td>\n",
       "    </tr>\n",
       "    <tr>\n",
       "      <th>6955</th>\n",
       "      <td>281875.0</td>\n",
       "      <td>2021-12-26</td>\n",
       "      <td>13:00</td>\n",
       "      <td>226257.0</td>\n",
       "      <td>COUPE</td>\n",
       "      <td>1.0</td>\n",
       "      <td>0,15 €</td>\n",
       "      <td>Sun</td>\n",
       "      <td>St Stephen's Day</td>\n",
       "    </tr>\n",
       "  </tbody>\n",
       "</table>\n",
       "<p>6956 rows × 9 columns</p>\n",
       "</div>"
      ],
      "text/plain": [
       "      Unnamed: 0       date   time  ticket_number             article  \\\n",
       "0            NaN 2021-01-01    NaN            NaN                 NaN   \n",
       "1        52344.0 2021-04-02   7:38       164264.0    FORMULE SANDWICH   \n",
       "2        52347.0 2021-04-02   7:50       164265.0    PAIN AU CHOCOLAT   \n",
       "3        52348.0 2021-04-02   7:50       164265.0            BAGUETTE   \n",
       "4        52351.0 2021-04-02   7:51       164266.0              COOKIE   \n",
       "...          ...        ...    ...            ...                 ...   \n",
       "6951    281867.0 2021-12-26  12:56       226255.0          BOULE 400G   \n",
       "6952    281868.0 2021-12-26  12:56       226255.0  DIVERS BOULANGERIE   \n",
       "6953    281871.0 2021-12-26  12:58       226256.0        PAIN BANETTE   \n",
       "6954    281874.0 2021-12-26  13:00       226257.0       SPECIAL BREAD   \n",
       "6955    281875.0 2021-12-26  13:00       226257.0               COUPE   \n",
       "\n",
       "      Quantity unit_price  day            holiday  \n",
       "0          NaN        NaN  Fri     New Year's Day  \n",
       "1          2.0     6,50 €  Fri       Good Friday   \n",
       "2          1.0     1,20 €  Fri       Good Friday   \n",
       "3          1.0     0,90 €  Fri       Good Friday   \n",
       "4          1.0     1,00 €  Fri       Good Friday   \n",
       "...        ...        ...  ...                ...  \n",
       "6951       1.0     1,50 €  Sun  St Stephen's Day   \n",
       "6952       1.0     6,00 €  Sun  St Stephen's Day   \n",
       "6953       1.0     1,40 €  Sun  St Stephen's Day   \n",
       "6954       1.0     2,40 €  Sun  St Stephen's Day   \n",
       "6955       1.0     0,15 €  Sun  St Stephen's Day   \n",
       "\n",
       "[6956 rows x 9 columns]"
      ]
     },
     "execution_count": 9,
     "metadata": {},
     "output_type": "execute_result"
    }
   ],
   "source": [
    "merged_df = pd.merge(bakery_df, dates_df, on='date', how='right')\n",
    "merged_df"
   ]
  },
  {
   "cell_type": "code",
   "execution_count": 10,
   "id": "5811fa13",
   "metadata": {},
   "outputs": [
    {
     "data": {
      "text/html": [
       "<div>\n",
       "<style scoped>\n",
       "    .dataframe tbody tr th:only-of-type {\n",
       "        vertical-align: middle;\n",
       "    }\n",
       "\n",
       "    .dataframe tbody tr th {\n",
       "        vertical-align: top;\n",
       "    }\n",
       "\n",
       "    .dataframe thead th {\n",
       "        text-align: right;\n",
       "    }\n",
       "</style>\n",
       "<table border=\"1\" class=\"dataframe\">\n",
       "  <thead>\n",
       "    <tr style=\"text-align: right;\">\n",
       "      <th></th>\n",
       "      <th>article_id</th>\n",
       "      <th>date</th>\n",
       "      <th>time</th>\n",
       "      <th>ticket_number</th>\n",
       "      <th>article</th>\n",
       "      <th>Sales Quantity</th>\n",
       "      <th>unit_price</th>\n",
       "      <th>day</th>\n",
       "      <th>holiday</th>\n",
       "    </tr>\n",
       "  </thead>\n",
       "  <tbody>\n",
       "    <tr>\n",
       "      <th>0</th>\n",
       "      <td>NaN</td>\n",
       "      <td>2021-01-01</td>\n",
       "      <td>NaN</td>\n",
       "      <td>NaN</td>\n",
       "      <td>NaN</td>\n",
       "      <td>NaN</td>\n",
       "      <td>NaN</td>\n",
       "      <td>Fri</td>\n",
       "      <td>New Year's Day</td>\n",
       "    </tr>\n",
       "    <tr>\n",
       "      <th>1</th>\n",
       "      <td>52344.0</td>\n",
       "      <td>2021-04-02</td>\n",
       "      <td>7:38</td>\n",
       "      <td>164264.0</td>\n",
       "      <td>FORMULE SANDWICH</td>\n",
       "      <td>2.0</td>\n",
       "      <td>6,50 €</td>\n",
       "      <td>Fri</td>\n",
       "      <td>Good Friday</td>\n",
       "    </tr>\n",
       "    <tr>\n",
       "      <th>2</th>\n",
       "      <td>52347.0</td>\n",
       "      <td>2021-04-02</td>\n",
       "      <td>7:50</td>\n",
       "      <td>164265.0</td>\n",
       "      <td>PAIN AU CHOCOLAT</td>\n",
       "      <td>1.0</td>\n",
       "      <td>1,20 €</td>\n",
       "      <td>Fri</td>\n",
       "      <td>Good Friday</td>\n",
       "    </tr>\n",
       "    <tr>\n",
       "      <th>3</th>\n",
       "      <td>52348.0</td>\n",
       "      <td>2021-04-02</td>\n",
       "      <td>7:50</td>\n",
       "      <td>164265.0</td>\n",
       "      <td>BAGUETTE</td>\n",
       "      <td>1.0</td>\n",
       "      <td>0,90 €</td>\n",
       "      <td>Fri</td>\n",
       "      <td>Good Friday</td>\n",
       "    </tr>\n",
       "    <tr>\n",
       "      <th>4</th>\n",
       "      <td>52351.0</td>\n",
       "      <td>2021-04-02</td>\n",
       "      <td>7:51</td>\n",
       "      <td>164266.0</td>\n",
       "      <td>COOKIE</td>\n",
       "      <td>1.0</td>\n",
       "      <td>1,00 €</td>\n",
       "      <td>Fri</td>\n",
       "      <td>Good Friday</td>\n",
       "    </tr>\n",
       "    <tr>\n",
       "      <th>...</th>\n",
       "      <td>...</td>\n",
       "      <td>...</td>\n",
       "      <td>...</td>\n",
       "      <td>...</td>\n",
       "      <td>...</td>\n",
       "      <td>...</td>\n",
       "      <td>...</td>\n",
       "      <td>...</td>\n",
       "      <td>...</td>\n",
       "    </tr>\n",
       "    <tr>\n",
       "      <th>6951</th>\n",
       "      <td>281867.0</td>\n",
       "      <td>2021-12-26</td>\n",
       "      <td>12:56</td>\n",
       "      <td>226255.0</td>\n",
       "      <td>BOULE 400G</td>\n",
       "      <td>1.0</td>\n",
       "      <td>1,50 €</td>\n",
       "      <td>Sun</td>\n",
       "      <td>St Stephen's Day</td>\n",
       "    </tr>\n",
       "    <tr>\n",
       "      <th>6952</th>\n",
       "      <td>281868.0</td>\n",
       "      <td>2021-12-26</td>\n",
       "      <td>12:56</td>\n",
       "      <td>226255.0</td>\n",
       "      <td>DIVERS BOULANGERIE</td>\n",
       "      <td>1.0</td>\n",
       "      <td>6,00 €</td>\n",
       "      <td>Sun</td>\n",
       "      <td>St Stephen's Day</td>\n",
       "    </tr>\n",
       "    <tr>\n",
       "      <th>6953</th>\n",
       "      <td>281871.0</td>\n",
       "      <td>2021-12-26</td>\n",
       "      <td>12:58</td>\n",
       "      <td>226256.0</td>\n",
       "      <td>PAIN BANETTE</td>\n",
       "      <td>1.0</td>\n",
       "      <td>1,40 €</td>\n",
       "      <td>Sun</td>\n",
       "      <td>St Stephen's Day</td>\n",
       "    </tr>\n",
       "    <tr>\n",
       "      <th>6954</th>\n",
       "      <td>281874.0</td>\n",
       "      <td>2021-12-26</td>\n",
       "      <td>13:00</td>\n",
       "      <td>226257.0</td>\n",
       "      <td>SPECIAL BREAD</td>\n",
       "      <td>1.0</td>\n",
       "      <td>2,40 €</td>\n",
       "      <td>Sun</td>\n",
       "      <td>St Stephen's Day</td>\n",
       "    </tr>\n",
       "    <tr>\n",
       "      <th>6955</th>\n",
       "      <td>281875.0</td>\n",
       "      <td>2021-12-26</td>\n",
       "      <td>13:00</td>\n",
       "      <td>226257.0</td>\n",
       "      <td>COUPE</td>\n",
       "      <td>1.0</td>\n",
       "      <td>0,15 €</td>\n",
       "      <td>Sun</td>\n",
       "      <td>St Stephen's Day</td>\n",
       "    </tr>\n",
       "  </tbody>\n",
       "</table>\n",
       "<p>6956 rows × 9 columns</p>\n",
       "</div>"
      ],
      "text/plain": [
       "      article_id       date   time  ticket_number             article  \\\n",
       "0            NaN 2021-01-01    NaN            NaN                 NaN   \n",
       "1        52344.0 2021-04-02   7:38       164264.0    FORMULE SANDWICH   \n",
       "2        52347.0 2021-04-02   7:50       164265.0    PAIN AU CHOCOLAT   \n",
       "3        52348.0 2021-04-02   7:50       164265.0            BAGUETTE   \n",
       "4        52351.0 2021-04-02   7:51       164266.0              COOKIE   \n",
       "...          ...        ...    ...            ...                 ...   \n",
       "6951    281867.0 2021-12-26  12:56       226255.0          BOULE 400G   \n",
       "6952    281868.0 2021-12-26  12:56       226255.0  DIVERS BOULANGERIE   \n",
       "6953    281871.0 2021-12-26  12:58       226256.0        PAIN BANETTE   \n",
       "6954    281874.0 2021-12-26  13:00       226257.0       SPECIAL BREAD   \n",
       "6955    281875.0 2021-12-26  13:00       226257.0               COUPE   \n",
       "\n",
       "      Sales Quantity unit_price  day            holiday  \n",
       "0                NaN        NaN  Fri     New Year's Day  \n",
       "1                2.0     6,50 €  Fri       Good Friday   \n",
       "2                1.0     1,20 €  Fri       Good Friday   \n",
       "3                1.0     0,90 €  Fri       Good Friday   \n",
       "4                1.0     1,00 €  Fri       Good Friday   \n",
       "...              ...        ...  ...                ...  \n",
       "6951             1.0     1,50 €  Sun  St Stephen's Day   \n",
       "6952             1.0     6,00 €  Sun  St Stephen's Day   \n",
       "6953             1.0     1,40 €  Sun  St Stephen's Day   \n",
       "6954             1.0     2,40 €  Sun  St Stephen's Day   \n",
       "6955             1.0     0,15 €  Sun  St Stephen's Day   \n",
       "\n",
       "[6956 rows x 9 columns]"
      ]
     },
     "execution_count": 10,
     "metadata": {},
     "output_type": "execute_result"
    }
   ],
   "source": [
    "merged_df1 = merged_df.rename(columns = {'Unnamed: 0': 'article_id', 'Quantity': 'Sales Quantity'})\n",
    "merged_df1"
   ]
  },
  {
   "cell_type": "code",
   "execution_count": 11,
   "id": "a8b574fd",
   "metadata": {},
   "outputs": [
    {
     "data": {
      "text/html": [
       "<div>\n",
       "<style scoped>\n",
       "    .dataframe tbody tr th:only-of-type {\n",
       "        vertical-align: middle;\n",
       "    }\n",
       "\n",
       "    .dataframe tbody tr th {\n",
       "        vertical-align: top;\n",
       "    }\n",
       "\n",
       "    .dataframe thead th {\n",
       "        text-align: right;\n",
       "    }\n",
       "</style>\n",
       "<table border=\"1\" class=\"dataframe\">\n",
       "  <thead>\n",
       "    <tr style=\"text-align: right;\">\n",
       "      <th></th>\n",
       "      <th>ARTICLE_ID</th>\n",
       "      <th>DATE</th>\n",
       "      <th>TIME</th>\n",
       "      <th>TICKET_NUMBER</th>\n",
       "      <th>ARTICLE</th>\n",
       "      <th>SALES QUANTITY</th>\n",
       "      <th>UNIT_PRICE</th>\n",
       "      <th>DAY</th>\n",
       "      <th>HOLIDAY</th>\n",
       "    </tr>\n",
       "  </thead>\n",
       "  <tbody>\n",
       "    <tr>\n",
       "      <th>0</th>\n",
       "      <td>NaN</td>\n",
       "      <td>2021-01-01</td>\n",
       "      <td>NaN</td>\n",
       "      <td>NaN</td>\n",
       "      <td>NaN</td>\n",
       "      <td>NaN</td>\n",
       "      <td>NaN</td>\n",
       "      <td>Fri</td>\n",
       "      <td>New Year's Day</td>\n",
       "    </tr>\n",
       "    <tr>\n",
       "      <th>1</th>\n",
       "      <td>52344.0</td>\n",
       "      <td>2021-04-02</td>\n",
       "      <td>7:38</td>\n",
       "      <td>164264.0</td>\n",
       "      <td>FORMULE SANDWICH</td>\n",
       "      <td>2.0</td>\n",
       "      <td>6,50 €</td>\n",
       "      <td>Fri</td>\n",
       "      <td>Good Friday</td>\n",
       "    </tr>\n",
       "    <tr>\n",
       "      <th>2</th>\n",
       "      <td>52347.0</td>\n",
       "      <td>2021-04-02</td>\n",
       "      <td>7:50</td>\n",
       "      <td>164265.0</td>\n",
       "      <td>PAIN AU CHOCOLAT</td>\n",
       "      <td>1.0</td>\n",
       "      <td>1,20 €</td>\n",
       "      <td>Fri</td>\n",
       "      <td>Good Friday</td>\n",
       "    </tr>\n",
       "    <tr>\n",
       "      <th>3</th>\n",
       "      <td>52348.0</td>\n",
       "      <td>2021-04-02</td>\n",
       "      <td>7:50</td>\n",
       "      <td>164265.0</td>\n",
       "      <td>BAGUETTE</td>\n",
       "      <td>1.0</td>\n",
       "      <td>0,90 €</td>\n",
       "      <td>Fri</td>\n",
       "      <td>Good Friday</td>\n",
       "    </tr>\n",
       "    <tr>\n",
       "      <th>4</th>\n",
       "      <td>52351.0</td>\n",
       "      <td>2021-04-02</td>\n",
       "      <td>7:51</td>\n",
       "      <td>164266.0</td>\n",
       "      <td>COOKIE</td>\n",
       "      <td>1.0</td>\n",
       "      <td>1,00 €</td>\n",
       "      <td>Fri</td>\n",
       "      <td>Good Friday</td>\n",
       "    </tr>\n",
       "    <tr>\n",
       "      <th>...</th>\n",
       "      <td>...</td>\n",
       "      <td>...</td>\n",
       "      <td>...</td>\n",
       "      <td>...</td>\n",
       "      <td>...</td>\n",
       "      <td>...</td>\n",
       "      <td>...</td>\n",
       "      <td>...</td>\n",
       "      <td>...</td>\n",
       "    </tr>\n",
       "    <tr>\n",
       "      <th>6951</th>\n",
       "      <td>281867.0</td>\n",
       "      <td>2021-12-26</td>\n",
       "      <td>12:56</td>\n",
       "      <td>226255.0</td>\n",
       "      <td>BOULE 400G</td>\n",
       "      <td>1.0</td>\n",
       "      <td>1,50 €</td>\n",
       "      <td>Sun</td>\n",
       "      <td>St Stephen's Day</td>\n",
       "    </tr>\n",
       "    <tr>\n",
       "      <th>6952</th>\n",
       "      <td>281868.0</td>\n",
       "      <td>2021-12-26</td>\n",
       "      <td>12:56</td>\n",
       "      <td>226255.0</td>\n",
       "      <td>DIVERS BOULANGERIE</td>\n",
       "      <td>1.0</td>\n",
       "      <td>6,00 €</td>\n",
       "      <td>Sun</td>\n",
       "      <td>St Stephen's Day</td>\n",
       "    </tr>\n",
       "    <tr>\n",
       "      <th>6953</th>\n",
       "      <td>281871.0</td>\n",
       "      <td>2021-12-26</td>\n",
       "      <td>12:58</td>\n",
       "      <td>226256.0</td>\n",
       "      <td>PAIN BANETTE</td>\n",
       "      <td>1.0</td>\n",
       "      <td>1,40 €</td>\n",
       "      <td>Sun</td>\n",
       "      <td>St Stephen's Day</td>\n",
       "    </tr>\n",
       "    <tr>\n",
       "      <th>6954</th>\n",
       "      <td>281874.0</td>\n",
       "      <td>2021-12-26</td>\n",
       "      <td>13:00</td>\n",
       "      <td>226257.0</td>\n",
       "      <td>SPECIAL BREAD</td>\n",
       "      <td>1.0</td>\n",
       "      <td>2,40 €</td>\n",
       "      <td>Sun</td>\n",
       "      <td>St Stephen's Day</td>\n",
       "    </tr>\n",
       "    <tr>\n",
       "      <th>6955</th>\n",
       "      <td>281875.0</td>\n",
       "      <td>2021-12-26</td>\n",
       "      <td>13:00</td>\n",
       "      <td>226257.0</td>\n",
       "      <td>COUPE</td>\n",
       "      <td>1.0</td>\n",
       "      <td>0,15 €</td>\n",
       "      <td>Sun</td>\n",
       "      <td>St Stephen's Day</td>\n",
       "    </tr>\n",
       "  </tbody>\n",
       "</table>\n",
       "<p>6956 rows × 9 columns</p>\n",
       "</div>"
      ],
      "text/plain": [
       "      ARTICLE_ID       DATE   TIME  TICKET_NUMBER             ARTICLE  \\\n",
       "0            NaN 2021-01-01    NaN            NaN                 NaN   \n",
       "1        52344.0 2021-04-02   7:38       164264.0    FORMULE SANDWICH   \n",
       "2        52347.0 2021-04-02   7:50       164265.0    PAIN AU CHOCOLAT   \n",
       "3        52348.0 2021-04-02   7:50       164265.0            BAGUETTE   \n",
       "4        52351.0 2021-04-02   7:51       164266.0              COOKIE   \n",
       "...          ...        ...    ...            ...                 ...   \n",
       "6951    281867.0 2021-12-26  12:56       226255.0          BOULE 400G   \n",
       "6952    281868.0 2021-12-26  12:56       226255.0  DIVERS BOULANGERIE   \n",
       "6953    281871.0 2021-12-26  12:58       226256.0        PAIN BANETTE   \n",
       "6954    281874.0 2021-12-26  13:00       226257.0       SPECIAL BREAD   \n",
       "6955    281875.0 2021-12-26  13:00       226257.0               COUPE   \n",
       "\n",
       "      SALES QUANTITY UNIT_PRICE  DAY            HOLIDAY  \n",
       "0                NaN        NaN  Fri     New Year's Day  \n",
       "1                2.0     6,50 €  Fri       Good Friday   \n",
       "2                1.0     1,20 €  Fri       Good Friday   \n",
       "3                1.0     0,90 €  Fri       Good Friday   \n",
       "4                1.0     1,00 €  Fri       Good Friday   \n",
       "...              ...        ...  ...                ...  \n",
       "6951             1.0     1,50 €  Sun  St Stephen's Day   \n",
       "6952             1.0     6,00 €  Sun  St Stephen's Day   \n",
       "6953             1.0     1,40 €  Sun  St Stephen's Day   \n",
       "6954             1.0     2,40 €  Sun  St Stephen's Day   \n",
       "6955             1.0     0,15 €  Sun  St Stephen's Day   \n",
       "\n",
       "[6956 rows x 9 columns]"
      ]
     },
     "execution_count": 11,
     "metadata": {},
     "output_type": "execute_result"
    }
   ],
   "source": [
    "merged_df1.columns=merged_df1.columns.str.upper()\n",
    "merged_df1"
   ]
  },
  {
   "cell_type": "code",
   "execution_count": 12,
   "id": "3b887b35",
   "metadata": {},
   "outputs": [
    {
     "name": "stdout",
     "output_type": "stream",
     "text": [
      "<class 'pandas.core.frame.DataFrame'>\n",
      "Int64Index: 6956 entries, 0 to 6955\n",
      "Data columns (total 9 columns):\n",
      " #   Column          Non-Null Count  Dtype         \n",
      "---  ------          --------------  -----         \n",
      " 0   ARTICLE_ID      6955 non-null   float64       \n",
      " 1   DATE            6956 non-null   datetime64[ns]\n",
      " 2   TIME            6955 non-null   object        \n",
      " 3   TICKET_NUMBER   6955 non-null   float64       \n",
      " 4   ARTICLE         6955 non-null   object        \n",
      " 5   SALES QUANTITY  6955 non-null   float64       \n",
      " 6   UNIT_PRICE      6955 non-null   object        \n",
      " 7   DAY             6956 non-null   object        \n",
      " 8   HOLIDAY         6956 non-null   object        \n",
      "dtypes: datetime64[ns](1), float64(3), object(5)\n",
      "memory usage: 543.4+ KB\n"
     ]
    }
   ],
   "source": [
    "merged_df1.info()"
   ]
  },
  {
   "cell_type": "code",
   "execution_count": 13,
   "id": "3a2c0185",
   "metadata": {},
   "outputs": [
    {
     "data": {
      "text/plain": [
       "<bound method NDFrame._add_numeric_operations.<locals>.sum of 0       False\n",
       "1       False\n",
       "2       False\n",
       "3       False\n",
       "4       False\n",
       "        ...  \n",
       "6951    False\n",
       "6952    False\n",
       "6953    False\n",
       "6954    False\n",
       "6955    False\n",
       "Length: 6956, dtype: bool>"
      ]
     },
     "execution_count": 13,
     "metadata": {},
     "output_type": "execute_result"
    }
   ],
   "source": [
    "merged_df1.duplicated().sum"
   ]
  },
  {
   "cell_type": "code",
   "execution_count": 14,
   "id": "ed548143",
   "metadata": {},
   "outputs": [
    {
     "data": {
      "text/html": [
       "<div>\n",
       "<style scoped>\n",
       "    .dataframe tbody tr th:only-of-type {\n",
       "        vertical-align: middle;\n",
       "    }\n",
       "\n",
       "    .dataframe tbody tr th {\n",
       "        vertical-align: top;\n",
       "    }\n",
       "\n",
       "    .dataframe thead th {\n",
       "        text-align: right;\n",
       "    }\n",
       "</style>\n",
       "<table border=\"1\" class=\"dataframe\">\n",
       "  <thead>\n",
       "    <tr style=\"text-align: right;\">\n",
       "      <th></th>\n",
       "      <th>ARTICLE_ID</th>\n",
       "      <th>DATE</th>\n",
       "      <th>TIME</th>\n",
       "      <th>TICKET_NUMBER</th>\n",
       "      <th>ARTICLE</th>\n",
       "      <th>SALES QUANTITY</th>\n",
       "      <th>UNIT_PRICE</th>\n",
       "      <th>DAY</th>\n",
       "      <th>HOLIDAY</th>\n",
       "    </tr>\n",
       "  </thead>\n",
       "  <tbody>\n",
       "    <tr>\n",
       "      <th>0</th>\n",
       "      <td>True</td>\n",
       "      <td>False</td>\n",
       "      <td>True</td>\n",
       "      <td>True</td>\n",
       "      <td>True</td>\n",
       "      <td>True</td>\n",
       "      <td>True</td>\n",
       "      <td>False</td>\n",
       "      <td>False</td>\n",
       "    </tr>\n",
       "    <tr>\n",
       "      <th>1</th>\n",
       "      <td>False</td>\n",
       "      <td>False</td>\n",
       "      <td>False</td>\n",
       "      <td>False</td>\n",
       "      <td>False</td>\n",
       "      <td>False</td>\n",
       "      <td>False</td>\n",
       "      <td>False</td>\n",
       "      <td>False</td>\n",
       "    </tr>\n",
       "    <tr>\n",
       "      <th>2</th>\n",
       "      <td>False</td>\n",
       "      <td>False</td>\n",
       "      <td>False</td>\n",
       "      <td>False</td>\n",
       "      <td>False</td>\n",
       "      <td>False</td>\n",
       "      <td>False</td>\n",
       "      <td>False</td>\n",
       "      <td>False</td>\n",
       "    </tr>\n",
       "    <tr>\n",
       "      <th>3</th>\n",
       "      <td>False</td>\n",
       "      <td>False</td>\n",
       "      <td>False</td>\n",
       "      <td>False</td>\n",
       "      <td>False</td>\n",
       "      <td>False</td>\n",
       "      <td>False</td>\n",
       "      <td>False</td>\n",
       "      <td>False</td>\n",
       "    </tr>\n",
       "    <tr>\n",
       "      <th>4</th>\n",
       "      <td>False</td>\n",
       "      <td>False</td>\n",
       "      <td>False</td>\n",
       "      <td>False</td>\n",
       "      <td>False</td>\n",
       "      <td>False</td>\n",
       "      <td>False</td>\n",
       "      <td>False</td>\n",
       "      <td>False</td>\n",
       "    </tr>\n",
       "  </tbody>\n",
       "</table>\n",
       "</div>"
      ],
      "text/plain": [
       "   ARTICLE_ID   DATE   TIME  TICKET_NUMBER  ARTICLE  SALES QUANTITY  \\\n",
       "0        True  False   True           True     True            True   \n",
       "1       False  False  False          False    False           False   \n",
       "2       False  False  False          False    False           False   \n",
       "3       False  False  False          False    False           False   \n",
       "4       False  False  False          False    False           False   \n",
       "\n",
       "   UNIT_PRICE    DAY  HOLIDAY  \n",
       "0        True  False    False  \n",
       "1       False  False    False  \n",
       "2       False  False    False  \n",
       "3       False  False    False  \n",
       "4       False  False    False  "
      ]
     },
     "execution_count": 14,
     "metadata": {},
     "output_type": "execute_result"
    }
   ],
   "source": [
    "missing_values = merged_df1.isnull()\n",
    "missing_values.head()"
   ]
  },
  {
   "cell_type": "code",
   "execution_count": 15,
   "id": "6422000b",
   "metadata": {},
   "outputs": [
    {
     "name": "stdout",
     "output_type": "stream",
     "text": [
      "ARTICLE_ID\n",
      "False    6955\n",
      "True        1\n",
      "Name: ARTICLE_ID, dtype: int64\n",
      "\n",
      "DATE\n",
      "False    6956\n",
      "Name: DATE, dtype: int64\n",
      "\n",
      "TIME\n",
      "False    6955\n",
      "True        1\n",
      "Name: TIME, dtype: int64\n",
      "\n",
      "TICKET_NUMBER\n",
      "False    6955\n",
      "True        1\n",
      "Name: TICKET_NUMBER, dtype: int64\n",
      "\n",
      "ARTICLE\n",
      "False    6955\n",
      "True        1\n",
      "Name: ARTICLE, dtype: int64\n",
      "\n",
      "SALES QUANTITY\n",
      "False    6955\n",
      "True        1\n",
      "Name: SALES QUANTITY, dtype: int64\n",
      "\n",
      "UNIT_PRICE\n",
      "False    6955\n",
      "True        1\n",
      "Name: UNIT_PRICE, dtype: int64\n",
      "\n",
      "DAY\n",
      "False    6956\n",
      "Name: DAY, dtype: int64\n",
      "\n",
      "HOLIDAY\n",
      "False    6956\n",
      "Name: HOLIDAY, dtype: int64\n",
      "\n"
     ]
    }
   ],
   "source": [
    " for column in missing_values.columns.values.tolist():\n",
    "    print(column)\n",
    "    print (missing_values[column].value_counts())\n",
    "    print(\"\") "
   ]
  },
  {
   "cell_type": "code",
   "execution_count": 16,
   "id": "30f79505",
   "metadata": {},
   "outputs": [
    {
     "data": {
      "text/html": [
       "<div>\n",
       "<style scoped>\n",
       "    .dataframe tbody tr th:only-of-type {\n",
       "        vertical-align: middle;\n",
       "    }\n",
       "\n",
       "    .dataframe tbody tr th {\n",
       "        vertical-align: top;\n",
       "    }\n",
       "\n",
       "    .dataframe thead th {\n",
       "        text-align: right;\n",
       "    }\n",
       "</style>\n",
       "<table border=\"1\" class=\"dataframe\">\n",
       "  <thead>\n",
       "    <tr style=\"text-align: right;\">\n",
       "      <th></th>\n",
       "      <th>ARTICLE_ID</th>\n",
       "      <th>DATE</th>\n",
       "      <th>TIME</th>\n",
       "      <th>TICKET_NUMBER</th>\n",
       "      <th>ARTICLE</th>\n",
       "      <th>SALES QUANTITY</th>\n",
       "      <th>UNIT_PRICE</th>\n",
       "      <th>DAY</th>\n",
       "      <th>HOLIDAY</th>\n",
       "    </tr>\n",
       "  </thead>\n",
       "  <tbody>\n",
       "    <tr>\n",
       "      <th>1</th>\n",
       "      <td>52344.0</td>\n",
       "      <td>2021-04-02</td>\n",
       "      <td>7:38</td>\n",
       "      <td>164264.0</td>\n",
       "      <td>FORMULE SANDWICH</td>\n",
       "      <td>2.0</td>\n",
       "      <td>6,50 €</td>\n",
       "      <td>Fri</td>\n",
       "      <td>Good Friday</td>\n",
       "    </tr>\n",
       "    <tr>\n",
       "      <th>2</th>\n",
       "      <td>52347.0</td>\n",
       "      <td>2021-04-02</td>\n",
       "      <td>7:50</td>\n",
       "      <td>164265.0</td>\n",
       "      <td>PAIN AU CHOCOLAT</td>\n",
       "      <td>1.0</td>\n",
       "      <td>1,20 €</td>\n",
       "      <td>Fri</td>\n",
       "      <td>Good Friday</td>\n",
       "    </tr>\n",
       "    <tr>\n",
       "      <th>3</th>\n",
       "      <td>52348.0</td>\n",
       "      <td>2021-04-02</td>\n",
       "      <td>7:50</td>\n",
       "      <td>164265.0</td>\n",
       "      <td>BAGUETTE</td>\n",
       "      <td>1.0</td>\n",
       "      <td>0,90 €</td>\n",
       "      <td>Fri</td>\n",
       "      <td>Good Friday</td>\n",
       "    </tr>\n",
       "    <tr>\n",
       "      <th>4</th>\n",
       "      <td>52351.0</td>\n",
       "      <td>2021-04-02</td>\n",
       "      <td>7:51</td>\n",
       "      <td>164266.0</td>\n",
       "      <td>COOKIE</td>\n",
       "      <td>1.0</td>\n",
       "      <td>1,00 €</td>\n",
       "      <td>Fri</td>\n",
       "      <td>Good Friday</td>\n",
       "    </tr>\n",
       "    <tr>\n",
       "      <th>5</th>\n",
       "      <td>52352.0</td>\n",
       "      <td>2021-04-02</td>\n",
       "      <td>7:51</td>\n",
       "      <td>164266.0</td>\n",
       "      <td>PAIN CHOCO AMANDES</td>\n",
       "      <td>2.0</td>\n",
       "      <td>1,50 €</td>\n",
       "      <td>Fri</td>\n",
       "      <td>Good Friday</td>\n",
       "    </tr>\n",
       "    <tr>\n",
       "      <th>...</th>\n",
       "      <td>...</td>\n",
       "      <td>...</td>\n",
       "      <td>...</td>\n",
       "      <td>...</td>\n",
       "      <td>...</td>\n",
       "      <td>...</td>\n",
       "      <td>...</td>\n",
       "      <td>...</td>\n",
       "      <td>...</td>\n",
       "    </tr>\n",
       "    <tr>\n",
       "      <th>6951</th>\n",
       "      <td>281867.0</td>\n",
       "      <td>2021-12-26</td>\n",
       "      <td>12:56</td>\n",
       "      <td>226255.0</td>\n",
       "      <td>BOULE 400G</td>\n",
       "      <td>1.0</td>\n",
       "      <td>1,50 €</td>\n",
       "      <td>Sun</td>\n",
       "      <td>St Stephen's Day</td>\n",
       "    </tr>\n",
       "    <tr>\n",
       "      <th>6952</th>\n",
       "      <td>281868.0</td>\n",
       "      <td>2021-12-26</td>\n",
       "      <td>12:56</td>\n",
       "      <td>226255.0</td>\n",
       "      <td>DIVERS BOULANGERIE</td>\n",
       "      <td>1.0</td>\n",
       "      <td>6,00 €</td>\n",
       "      <td>Sun</td>\n",
       "      <td>St Stephen's Day</td>\n",
       "    </tr>\n",
       "    <tr>\n",
       "      <th>6953</th>\n",
       "      <td>281871.0</td>\n",
       "      <td>2021-12-26</td>\n",
       "      <td>12:58</td>\n",
       "      <td>226256.0</td>\n",
       "      <td>PAIN BANETTE</td>\n",
       "      <td>1.0</td>\n",
       "      <td>1,40 €</td>\n",
       "      <td>Sun</td>\n",
       "      <td>St Stephen's Day</td>\n",
       "    </tr>\n",
       "    <tr>\n",
       "      <th>6954</th>\n",
       "      <td>281874.0</td>\n",
       "      <td>2021-12-26</td>\n",
       "      <td>13:00</td>\n",
       "      <td>226257.0</td>\n",
       "      <td>SPECIAL BREAD</td>\n",
       "      <td>1.0</td>\n",
       "      <td>2,40 €</td>\n",
       "      <td>Sun</td>\n",
       "      <td>St Stephen's Day</td>\n",
       "    </tr>\n",
       "    <tr>\n",
       "      <th>6955</th>\n",
       "      <td>281875.0</td>\n",
       "      <td>2021-12-26</td>\n",
       "      <td>13:00</td>\n",
       "      <td>226257.0</td>\n",
       "      <td>COUPE</td>\n",
       "      <td>1.0</td>\n",
       "      <td>0,15 €</td>\n",
       "      <td>Sun</td>\n",
       "      <td>St Stephen's Day</td>\n",
       "    </tr>\n",
       "  </tbody>\n",
       "</table>\n",
       "<p>6955 rows × 9 columns</p>\n",
       "</div>"
      ],
      "text/plain": [
       "      ARTICLE_ID       DATE   TIME  TICKET_NUMBER             ARTICLE  \\\n",
       "1        52344.0 2021-04-02   7:38       164264.0    FORMULE SANDWICH   \n",
       "2        52347.0 2021-04-02   7:50       164265.0    PAIN AU CHOCOLAT   \n",
       "3        52348.0 2021-04-02   7:50       164265.0            BAGUETTE   \n",
       "4        52351.0 2021-04-02   7:51       164266.0              COOKIE   \n",
       "5        52352.0 2021-04-02   7:51       164266.0  PAIN CHOCO AMANDES   \n",
       "...          ...        ...    ...            ...                 ...   \n",
       "6951    281867.0 2021-12-26  12:56       226255.0          BOULE 400G   \n",
       "6952    281868.0 2021-12-26  12:56       226255.0  DIVERS BOULANGERIE   \n",
       "6953    281871.0 2021-12-26  12:58       226256.0        PAIN BANETTE   \n",
       "6954    281874.0 2021-12-26  13:00       226257.0       SPECIAL BREAD   \n",
       "6955    281875.0 2021-12-26  13:00       226257.0               COUPE   \n",
       "\n",
       "      SALES QUANTITY UNIT_PRICE  DAY            HOLIDAY  \n",
       "1                2.0     6,50 €  Fri       Good Friday   \n",
       "2                1.0     1,20 €  Fri       Good Friday   \n",
       "3                1.0     0,90 €  Fri       Good Friday   \n",
       "4                1.0     1,00 €  Fri       Good Friday   \n",
       "5                2.0     1,50 €  Fri       Good Friday   \n",
       "...              ...        ...  ...                ...  \n",
       "6951             1.0     1,50 €  Sun  St Stephen's Day   \n",
       "6952             1.0     6,00 €  Sun  St Stephen's Day   \n",
       "6953             1.0     1,40 €  Sun  St Stephen's Day   \n",
       "6954             1.0     2,40 €  Sun  St Stephen's Day   \n",
       "6955             1.0     0,15 €  Sun  St Stephen's Day   \n",
       "\n",
       "[6955 rows x 9 columns]"
      ]
     },
     "execution_count": 16,
     "metadata": {},
     "output_type": "execute_result"
    }
   ],
   "source": [
    "merged_df2=merged_df1.dropna()\n",
    "merged_df2"
   ]
  },
  {
   "cell_type": "code",
   "execution_count": 17,
   "id": "80219d51",
   "metadata": {},
   "outputs": [
    {
     "name": "stderr",
     "output_type": "stream",
     "text": [
      "C:\\Users\\LIM\\AppData\\Local\\Temp\\ipykernel_4836\\838564678.py:1: SettingWithCopyWarning: \n",
      "A value is trying to be set on a copy of a slice from a DataFrame.\n",
      "Try using .loc[row_indexer,col_indexer] = value instead\n",
      "\n",
      "See the caveats in the documentation: https://pandas.pydata.org/pandas-docs/stable/user_guide/indexing.html#returning-a-view-versus-a-copy\n",
      "  merged_df2['SALES QUANTITY']=merged_df2['SALES QUANTITY'].abs()\n"
     ]
    }
   ],
   "source": [
    "merged_df2['SALES QUANTITY']=merged_df2['SALES QUANTITY'].abs()"
   ]
  },
  {
   "cell_type": "code",
   "execution_count": 18,
   "id": "d9c15115",
   "metadata": {},
   "outputs": [
    {
     "name": "stderr",
     "output_type": "stream",
     "text": [
      "C:\\Users\\LIM\\AppData\\Local\\Temp\\ipykernel_4836\\4175407290.py:3: SettingWithCopyWarning: \n",
      "A value is trying to be set on a copy of a slice from a DataFrame.\n",
      "Try using .loc[row_indexer,col_indexer] = value instead\n",
      "\n",
      "See the caveats in the documentation: https://pandas.pydata.org/pandas-docs/stable/user_guide/indexing.html#returning-a-view-versus-a-copy\n",
      "  merged_df2[columns_to_convert] = merged_df2[columns_to_convert].astype(int)\n"
     ]
    }
   ],
   "source": [
    "columns_to_convert = ['ARTICLE_ID', 'TICKET_NUMBER', 'SALES QUANTITY']\n",
    "\n",
    "merged_df2[columns_to_convert] = merged_df2[columns_to_convert].astype(int)"
   ]
  },
  {
   "cell_type": "code",
   "execution_count": 19,
   "id": "f28bbb17",
   "metadata": {},
   "outputs": [
    {
     "name": "stdout",
     "output_type": "stream",
     "text": [
      "Number of outliers in SALES QUANTITY : 142\n"
     ]
    },
    {
     "name": "stderr",
     "output_type": "stream",
     "text": [
      "C:\\Users\\LIM\\AppData\\Local\\Temp\\ipykernel_4836\\1234283525.py:3: DeprecationWarning: Please use `zscore` from the `scipy.stats` namespace, the `scipy.stats.stats` namespace is deprecated.\n",
      "  z_scores = np.abs(stats.zscore(merged_df2[column_name]))\n"
     ]
    }
   ],
   "source": [
    "from scipy.stats import stats\n",
    "column_name='SALES QUANTITY'\n",
    "z_scores = np.abs(stats.zscore(merged_df2[column_name]))\n",
    "threshold = 3\n",
    "num_outliers = len(np.where(z_scores > threshold)[0])\n",
    "print(\"Number of outliers in\", column_name, \":\", num_outliers)"
   ]
  },
  {
   "cell_type": "code",
   "execution_count": 20,
   "id": "0a5625a4",
   "metadata": {
    "scrolled": true
   },
   "outputs": [
    {
     "name": "stderr",
     "output_type": "stream",
     "text": [
      "C:\\Users\\LIM\\AppData\\Local\\Temp\\ipykernel_4836\\838564678.py:1: SettingWithCopyWarning: \n",
      "A value is trying to be set on a copy of a slice from a DataFrame.\n",
      "Try using .loc[row_indexer,col_indexer] = value instead\n",
      "\n",
      "See the caveats in the documentation: https://pandas.pydata.org/pandas-docs/stable/user_guide/indexing.html#returning-a-view-versus-a-copy\n",
      "  merged_df2['SALES QUANTITY']=merged_df2['SALES QUANTITY'].abs()\n"
     ]
    }
   ],
   "source": [
    "merged_df2['SALES QUANTITY']=merged_df2['SALES QUANTITY'].abs()"
   ]
  },
  {
   "cell_type": "code",
   "execution_count": 21,
   "id": "364498f6",
   "metadata": {},
   "outputs": [
    {
     "name": "stderr",
     "output_type": "stream",
     "text": [
      "C:\\Users\\LIM\\AppData\\Local\\Temp\\ipykernel_4836\\3313355785.py:5: SettingWithCopyWarning: \n",
      "A value is trying to be set on a copy of a slice from a DataFrame.\n",
      "Try using .loc[row_indexer,col_indexer] = value instead\n",
      "\n",
      "See the caveats in the documentation: https://pandas.pydata.org/pandas-docs/stable/user_guide/indexing.html#returning-a-view-versus-a-copy\n",
      "  merged_df2[i] = enc.fit_transform(merged_df2[i])\n",
      "C:\\Users\\LIM\\AppData\\Local\\Temp\\ipykernel_4836\\3313355785.py:5: SettingWithCopyWarning: \n",
      "A value is trying to be set on a copy of a slice from a DataFrame.\n",
      "Try using .loc[row_indexer,col_indexer] = value instead\n",
      "\n",
      "See the caveats in the documentation: https://pandas.pydata.org/pandas-docs/stable/user_guide/indexing.html#returning-a-view-versus-a-copy\n",
      "  merged_df2[i] = enc.fit_transform(merged_df2[i])\n",
      "C:\\Users\\LIM\\AppData\\Local\\Temp\\ipykernel_4836\\3313355785.py:5: SettingWithCopyWarning: \n",
      "A value is trying to be set on a copy of a slice from a DataFrame.\n",
      "Try using .loc[row_indexer,col_indexer] = value instead\n",
      "\n",
      "See the caveats in the documentation: https://pandas.pydata.org/pandas-docs/stable/user_guide/indexing.html#returning-a-view-versus-a-copy\n",
      "  merged_df2[i] = enc.fit_transform(merged_df2[i])\n",
      "C:\\Users\\LIM\\AppData\\Local\\Temp\\ipykernel_4836\\3313355785.py:5: SettingWithCopyWarning: \n",
      "A value is trying to be set on a copy of a slice from a DataFrame.\n",
      "Try using .loc[row_indexer,col_indexer] = value instead\n",
      "\n",
      "See the caveats in the documentation: https://pandas.pydata.org/pandas-docs/stable/user_guide/indexing.html#returning-a-view-versus-a-copy\n",
      "  merged_df2[i] = enc.fit_transform(merged_df2[i])\n",
      "C:\\Users\\LIM\\AppData\\Local\\Temp\\ipykernel_4836\\3313355785.py:5: SettingWithCopyWarning: \n",
      "A value is trying to be set on a copy of a slice from a DataFrame.\n",
      "Try using .loc[row_indexer,col_indexer] = value instead\n",
      "\n",
      "See the caveats in the documentation: https://pandas.pydata.org/pandas-docs/stable/user_guide/indexing.html#returning-a-view-versus-a-copy\n",
      "  merged_df2[i] = enc.fit_transform(merged_df2[i])\n"
     ]
    }
   ],
   "source": [
    "enc = preprocessing.LabelEncoder()\n",
    "\n",
    "for i in merged_df2.columns:\n",
    "    if merged_df2[i].dtype == object:\n",
    "        merged_df2[i] = enc.fit_transform(merged_df2[i])\n",
    "    else:\n",
    "        pass"
   ]
  },
  {
   "cell_type": "code",
   "execution_count": 22,
   "id": "d13d9d3b",
   "metadata": {},
   "outputs": [
    {
     "data": {
      "text/html": [
       "<div>\n",
       "<style scoped>\n",
       "    .dataframe tbody tr th:only-of-type {\n",
       "        vertical-align: middle;\n",
       "    }\n",
       "\n",
       "    .dataframe tbody tr th {\n",
       "        vertical-align: top;\n",
       "    }\n",
       "\n",
       "    .dataframe thead th {\n",
       "        text-align: right;\n",
       "    }\n",
       "</style>\n",
       "<table border=\"1\" class=\"dataframe\">\n",
       "  <thead>\n",
       "    <tr style=\"text-align: right;\">\n",
       "      <th></th>\n",
       "      <th>ARTICLE_ID</th>\n",
       "      <th>DATE</th>\n",
       "      <th>TIME</th>\n",
       "      <th>TICKET_NUMBER</th>\n",
       "      <th>ARTICLE</th>\n",
       "      <th>SALES QUANTITY</th>\n",
       "      <th>UNIT_PRICE</th>\n",
       "      <th>DAY</th>\n",
       "      <th>HOLIDAY</th>\n",
       "    </tr>\n",
       "  </thead>\n",
       "  <tbody>\n",
       "    <tr>\n",
       "      <th>1</th>\n",
       "      <td>52344</td>\n",
       "      <td>2021-04-02</td>\n",
       "      <td>278</td>\n",
       "      <td>164264</td>\n",
       "      <td>40</td>\n",
       "      <td>2</td>\n",
       "      <td>39</td>\n",
       "      <td>0</td>\n",
       "      <td>7</td>\n",
       "    </tr>\n",
       "    <tr>\n",
       "      <th>2</th>\n",
       "      <td>52347</td>\n",
       "      <td>2021-04-02</td>\n",
       "      <td>289</td>\n",
       "      <td>164265</td>\n",
       "      <td>60</td>\n",
       "      <td>1</td>\n",
       "      <td>12</td>\n",
       "      <td>0</td>\n",
       "      <td>7</td>\n",
       "    </tr>\n",
       "    <tr>\n",
       "      <th>3</th>\n",
       "      <td>52348</td>\n",
       "      <td>2021-04-02</td>\n",
       "      <td>289</td>\n",
       "      <td>164265</td>\n",
       "      <td>0</td>\n",
       "      <td>1</td>\n",
       "      <td>7</td>\n",
       "      <td>0</td>\n",
       "      <td>7</td>\n",
       "    </tr>\n",
       "    <tr>\n",
       "      <th>4</th>\n",
       "      <td>52351</td>\n",
       "      <td>2021-04-02</td>\n",
       "      <td>290</td>\n",
       "      <td>164266</td>\n",
       "      <td>20</td>\n",
       "      <td>1</td>\n",
       "      <td>8</td>\n",
       "      <td>0</td>\n",
       "      <td>7</td>\n",
       "    </tr>\n",
       "    <tr>\n",
       "      <th>5</th>\n",
       "      <td>52352</td>\n",
       "      <td>2021-04-02</td>\n",
       "      <td>290</td>\n",
       "      <td>164266</td>\n",
       "      <td>63</td>\n",
       "      <td>2</td>\n",
       "      <td>16</td>\n",
       "      <td>0</td>\n",
       "      <td>7</td>\n",
       "    </tr>\n",
       "    <tr>\n",
       "      <th>...</th>\n",
       "      <td>...</td>\n",
       "      <td>...</td>\n",
       "      <td>...</td>\n",
       "      <td>...</td>\n",
       "      <td>...</td>\n",
       "      <td>...</td>\n",
       "      <td>...</td>\n",
       "      <td>...</td>\n",
       "      <td>...</td>\n",
       "    </tr>\n",
       "    <tr>\n",
       "      <th>6951</th>\n",
       "      <td>281867</td>\n",
       "      <td>2021-12-26</td>\n",
       "      <td>176</td>\n",
       "      <td>226255</td>\n",
       "      <td>7</td>\n",
       "      <td>1</td>\n",
       "      <td>16</td>\n",
       "      <td>3</td>\n",
       "      <td>9</td>\n",
       "    </tr>\n",
       "    <tr>\n",
       "      <th>6952</th>\n",
       "      <td>281868</td>\n",
       "      <td>2021-12-26</td>\n",
       "      <td>176</td>\n",
       "      <td>226255</td>\n",
       "      <td>27</td>\n",
       "      <td>1</td>\n",
       "      <td>38</td>\n",
       "      <td>3</td>\n",
       "      <td>9</td>\n",
       "    </tr>\n",
       "    <tr>\n",
       "      <th>6953</th>\n",
       "      <td>281871</td>\n",
       "      <td>2021-12-26</td>\n",
       "      <td>178</td>\n",
       "      <td>226256</td>\n",
       "      <td>62</td>\n",
       "      <td>1</td>\n",
       "      <td>15</td>\n",
       "      <td>3</td>\n",
       "      <td>9</td>\n",
       "    </tr>\n",
       "    <tr>\n",
       "      <th>6954</th>\n",
       "      <td>281874</td>\n",
       "      <td>2021-12-26</td>\n",
       "      <td>180</td>\n",
       "      <td>226257</td>\n",
       "      <td>79</td>\n",
       "      <td>1</td>\n",
       "      <td>27</td>\n",
       "      <td>3</td>\n",
       "      <td>9</td>\n",
       "    </tr>\n",
       "    <tr>\n",
       "      <th>6955</th>\n",
       "      <td>281875</td>\n",
       "      <td>2021-12-26</td>\n",
       "      <td>180</td>\n",
       "      <td>226257</td>\n",
       "      <td>21</td>\n",
       "      <td>1</td>\n",
       "      <td>1</td>\n",
       "      <td>3</td>\n",
       "      <td>9</td>\n",
       "    </tr>\n",
       "  </tbody>\n",
       "</table>\n",
       "<p>6955 rows × 9 columns</p>\n",
       "</div>"
      ],
      "text/plain": [
       "      ARTICLE_ID       DATE  TIME  TICKET_NUMBER  ARTICLE  SALES QUANTITY  \\\n",
       "1          52344 2021-04-02   278         164264       40               2   \n",
       "2          52347 2021-04-02   289         164265       60               1   \n",
       "3          52348 2021-04-02   289         164265        0               1   \n",
       "4          52351 2021-04-02   290         164266       20               1   \n",
       "5          52352 2021-04-02   290         164266       63               2   \n",
       "...          ...        ...   ...            ...      ...             ...   \n",
       "6951      281867 2021-12-26   176         226255        7               1   \n",
       "6952      281868 2021-12-26   176         226255       27               1   \n",
       "6953      281871 2021-12-26   178         226256       62               1   \n",
       "6954      281874 2021-12-26   180         226257       79               1   \n",
       "6955      281875 2021-12-26   180         226257       21               1   \n",
       "\n",
       "      UNIT_PRICE  DAY  HOLIDAY  \n",
       "1             39    0        7  \n",
       "2             12    0        7  \n",
       "3              7    0        7  \n",
       "4              8    0        7  \n",
       "5             16    0        7  \n",
       "...          ...  ...      ...  \n",
       "6951          16    3        9  \n",
       "6952          38    3        9  \n",
       "6953          15    3        9  \n",
       "6954          27    3        9  \n",
       "6955           1    3        9  \n",
       "\n",
       "[6955 rows x 9 columns]"
      ]
     },
     "execution_count": 22,
     "metadata": {},
     "output_type": "execute_result"
    }
   ],
   "source": [
    "merged_df2"
   ]
  },
  {
   "cell_type": "code",
   "execution_count": 23,
   "id": "00bf0f7f",
   "metadata": {},
   "outputs": [
    {
     "name": "stdout",
     "output_type": "stream",
     "text": [
      "                ARTICLE_ID      TIME  TICKET_NUMBER   ARTICLE  SALES QUANTITY  \\\n",
      "ARTICLE_ID        1.000000 -0.040824       0.999994 -0.008511        0.031864   \n",
      "TIME             -0.040824  1.000000      -0.040745 -0.045035        0.092640   \n",
      "TICKET_NUMBER     0.999994 -0.040745       1.000000 -0.008618        0.031786   \n",
      "ARTICLE          -0.008511 -0.045035      -0.008618  1.000000        0.117784   \n",
      "SALES QUANTITY    0.031864  0.092640       0.031786  0.117784        1.000000   \n",
      "UNIT_PRICE       -0.022076 -0.045344      -0.022156  0.270411       -0.079877   \n",
      "DAY               0.164126  0.001560       0.164575  0.009167        0.014834   \n",
      "HOLIDAY          -0.453822  0.043261      -0.453442 -0.027092        0.027954   \n",
      "\n",
      "                UNIT_PRICE       DAY   HOLIDAY  \n",
      "ARTICLE_ID       -0.022076  0.164126 -0.453822  \n",
      "TIME             -0.045344  0.001560  0.043261  \n",
      "TICKET_NUMBER    -0.022156  0.164575 -0.453442  \n",
      "ARTICLE           0.270411  0.009167 -0.027092  \n",
      "SALES QUANTITY   -0.079877  0.014834  0.027954  \n",
      "UNIT_PRICE        1.000000  0.006615  0.006564  \n",
      "DAY               0.006615  1.000000 -0.264589  \n",
      "HOLIDAY           0.006564 -0.264589  1.000000  \n"
     ]
    }
   ],
   "source": [
    "correlation_matrix=merged_df2.corr()\n",
    "print(correlation_matrix)"
   ]
  },
  {
   "cell_type": "code",
   "execution_count": 25,
   "id": "bf59a66a",
   "metadata": {},
   "outputs": [
    {
     "data": {
      "text/plain": [
       "DATE\n",
       "2021-04-02     521\n",
       "2021-04-05     720\n",
       "2021-05-01     677\n",
       "2021-05-08     810\n",
       "2021-05-13    1053\n",
       "2021-05-23    1336\n",
       "2021-05-24    1003\n",
       "2021-07-14    1145\n",
       "2021-08-15    1765\n",
       "2021-11-01     936\n",
       "2021-11-11     530\n",
       "2021-12-25     660\n",
       "2021-12-26     735\n",
       "Name: SALES QUANTITY, dtype: int32"
      ]
     },
     "execution_count": 25,
     "metadata": {},
     "output_type": "execute_result"
    }
   ],
   "source": [
    "sales_by_date = merged_df2.groupby(\"DATE\")[\"SALES QUANTITY\"].sum() \n",
    "sales_by_date"
   ]
  },
  {
   "cell_type": "code",
   "execution_count": 26,
   "id": "ef786009",
   "metadata": {},
   "outputs": [
    {
     "data": {
      "text/plain": [
       "ARTICLE\n",
       "90    153.846154\n",
       "21     51.769231\n",
       "3      34.923077\n",
       "0      31.384615\n",
       "22     26.538462\n",
       "60     24.769231\n",
       "16     12.769231\n",
       "79     12.153846\n",
       "7      11.538462\n",
       "94     10.818182\n",
       "Name: SALES QUANTITY, dtype: float64"
      ]
     },
     "execution_count": 26,
     "metadata": {},
     "output_type": "execute_result"
    }
   ],
   "source": [
    "average_sold_per_holiday = (merged_df2\n",
    "    .groupby(['HOLIDAY', 'ARTICLE'])['SALES QUANTITY']\n",
    "    .count() # sum of each article sold per day\n",
    "    .reset_index()\n",
    "    .groupby('ARTICLE')['SALES QUANTITY']\n",
    "    .mean()\n",
    "    .sort_values(ascending=False)\n",
    ")\n",
    "average_sold_per_holiday[:10]"
   ]
  },
  {
   "cell_type": "code",
   "execution_count": 27,
   "id": "c625b1ae",
   "metadata": {},
   "outputs": [
    {
     "data": {
      "image/png": "[encoded data removed]",
      "text/plain": [
       "<Figure size 1000x600 with 1 Axes>"
      ]
     },
     "metadata": {},
     "output_type": "display_data"
    }
   ],
   "source": [
    "color = 'skyblue'\n",
    "\n",
    "# Create the histogram with the custom color\n",
    "plt.figure(figsize=(10, 6))\n",
    "plt.hist(merged_df2['SALES QUANTITY'], bins=30, color=color)\n",
    "\n",
    "# Adding labels and title\n",
    "plt.xlabel('sales')\n",
    "plt.ylabel('Frequency')\n",
    "plt.title('Histogram')\n",
    "\n",
    "# Displaying the plot\n",
    "plt.show()"
   ]
  },
  {
   "cell_type": "code",
   "execution_count": 28,
   "id": "020ffc8f",
   "metadata": {},
   "outputs": [
    {
     "data": {
      "image/png": "[encoded data removed]",
      "text/plain": [
       "<Figure size 640x480 with 1 Axes>"
      ]
     },
     "metadata": {},
     "output_type": "display_data"
    }
   ],
   "source": [
    "import seaborn as sns\n",
    "sns.boxplot(data=merged_df2, y=column_name)\n",
    "plt.title('Boxplot')\n",
    "plt.show()"
   ]
  },
  {
   "cell_type": "code",
   "execution_count": 29,
   "id": "7c75d9db",
   "metadata": {},
   "outputs": [
    {
     "name": "stderr",
     "output_type": "stream",
     "text": [
      "C:\\Users\\LIM\\AppData\\Local\\Temp\\ipykernel_4836\\3497624249.py:4: SettingWithCopyWarning: \n",
      "A value is trying to be set on a copy of a slice from a DataFrame.\n",
      "Try using .loc[row_indexer,col_indexer] = value instead\n",
      "\n",
      "See the caveats in the documentation: https://pandas.pydata.org/pandas-docs/stable/user_guide/indexing.html#returning-a-view-versus-a-copy\n",
      "  (train1[['ARTICLE','ARTICLE_ID','HOLIDAY','DAY','SALES QUANTITY','TICKET_NUMBER', 'UNIT_PRICE', 'TIME']])=scaler.transform(train1[['ARTICLE','ARTICLE_ID','HOLIDAY','DAY','SALES QUANTITY','TICKET_NUMBER', 'UNIT_PRICE', 'TIME']])\n"
     ]
    },
    {
     "data": {
      "text/html": [
       "<div>\n",
       "<style scoped>\n",
       "    .dataframe tbody tr th:only-of-type {\n",
       "        vertical-align: middle;\n",
       "    }\n",
       "\n",
       "    .dataframe tbody tr th {\n",
       "        vertical-align: top;\n",
       "    }\n",
       "\n",
       "    .dataframe thead th {\n",
       "        text-align: right;\n",
       "    }\n",
       "</style>\n",
       "<table border=\"1\" class=\"dataframe\">\n",
       "  <thead>\n",
       "    <tr style=\"text-align: right;\">\n",
       "      <th></th>\n",
       "      <th>ARTICLE_ID</th>\n",
       "      <th>DATE</th>\n",
       "      <th>TIME</th>\n",
       "      <th>TICKET_NUMBER</th>\n",
       "      <th>ARTICLE</th>\n",
       "      <th>SALES QUANTITY</th>\n",
       "      <th>UNIT_PRICE</th>\n",
       "      <th>DAY</th>\n",
       "      <th>HOLIDAY</th>\n",
       "    </tr>\n",
       "  </thead>\n",
       "  <tbody>\n",
       "    <tr>\n",
       "      <th>1</th>\n",
       "      <td>0.000000</td>\n",
       "      <td>2021-04-02</td>\n",
       "      <td>0.666667</td>\n",
       "      <td>0.000000</td>\n",
       "      <td>0.425532</td>\n",
       "      <td>0.052632</td>\n",
       "      <td>0.829787</td>\n",
       "      <td>0.0</td>\n",
       "      <td>0.583333</td>\n",
       "    </tr>\n",
       "    <tr>\n",
       "      <th>2</th>\n",
       "      <td>0.000013</td>\n",
       "      <td>2021-04-02</td>\n",
       "      <td>0.693046</td>\n",
       "      <td>0.000016</td>\n",
       "      <td>0.638298</td>\n",
       "      <td>0.000000</td>\n",
       "      <td>0.255319</td>\n",
       "      <td>0.0</td>\n",
       "      <td>0.583333</td>\n",
       "    </tr>\n",
       "    <tr>\n",
       "      <th>3</th>\n",
       "      <td>0.000017</td>\n",
       "      <td>2021-04-02</td>\n",
       "      <td>0.693046</td>\n",
       "      <td>0.000016</td>\n",
       "      <td>0.000000</td>\n",
       "      <td>0.000000</td>\n",
       "      <td>0.148936</td>\n",
       "      <td>0.0</td>\n",
       "      <td>0.583333</td>\n",
       "    </tr>\n",
       "    <tr>\n",
       "      <th>4</th>\n",
       "      <td>0.000030</td>\n",
       "      <td>2021-04-02</td>\n",
       "      <td>0.695444</td>\n",
       "      <td>0.000032</td>\n",
       "      <td>0.212766</td>\n",
       "      <td>0.000000</td>\n",
       "      <td>0.170213</td>\n",
       "      <td>0.0</td>\n",
       "      <td>0.583333</td>\n",
       "    </tr>\n",
       "    <tr>\n",
       "      <th>5</th>\n",
       "      <td>0.000035</td>\n",
       "      <td>2021-04-02</td>\n",
       "      <td>0.695444</td>\n",
       "      <td>0.000032</td>\n",
       "      <td>0.670213</td>\n",
       "      <td>0.052632</td>\n",
       "      <td>0.340426</td>\n",
       "      <td>0.0</td>\n",
       "      <td>0.583333</td>\n",
       "    </tr>\n",
       "    <tr>\n",
       "      <th>...</th>\n",
       "      <td>...</td>\n",
       "      <td>...</td>\n",
       "      <td>...</td>\n",
       "      <td>...</td>\n",
       "      <td>...</td>\n",
       "      <td>...</td>\n",
       "      <td>...</td>\n",
       "      <td>...</td>\n",
       "      <td>...</td>\n",
       "    </tr>\n",
       "    <tr>\n",
       "      <th>6951</th>\n",
       "      <td>0.999965</td>\n",
       "      <td>2021-12-26</td>\n",
       "      <td>0.422062</td>\n",
       "      <td>0.999968</td>\n",
       "      <td>0.074468</td>\n",
       "      <td>0.000000</td>\n",
       "      <td>0.340426</td>\n",
       "      <td>0.6</td>\n",
       "      <td>0.750000</td>\n",
       "    </tr>\n",
       "    <tr>\n",
       "      <th>6952</th>\n",
       "      <td>0.999970</td>\n",
       "      <td>2021-12-26</td>\n",
       "      <td>0.422062</td>\n",
       "      <td>0.999968</td>\n",
       "      <td>0.287234</td>\n",
       "      <td>0.000000</td>\n",
       "      <td>0.808511</td>\n",
       "      <td>0.6</td>\n",
       "      <td>0.750000</td>\n",
       "    </tr>\n",
       "    <tr>\n",
       "      <th>6953</th>\n",
       "      <td>0.999983</td>\n",
       "      <td>2021-12-26</td>\n",
       "      <td>0.426859</td>\n",
       "      <td>0.999984</td>\n",
       "      <td>0.659574</td>\n",
       "      <td>0.000000</td>\n",
       "      <td>0.319149</td>\n",
       "      <td>0.6</td>\n",
       "      <td>0.750000</td>\n",
       "    </tr>\n",
       "    <tr>\n",
       "      <th>6954</th>\n",
       "      <td>0.999996</td>\n",
       "      <td>2021-12-26</td>\n",
       "      <td>0.431655</td>\n",
       "      <td>1.000000</td>\n",
       "      <td>0.840426</td>\n",
       "      <td>0.000000</td>\n",
       "      <td>0.574468</td>\n",
       "      <td>0.6</td>\n",
       "      <td>0.750000</td>\n",
       "    </tr>\n",
       "    <tr>\n",
       "      <th>6955</th>\n",
       "      <td>1.000000</td>\n",
       "      <td>2021-12-26</td>\n",
       "      <td>0.431655</td>\n",
       "      <td>1.000000</td>\n",
       "      <td>0.223404</td>\n",
       "      <td>0.000000</td>\n",
       "      <td>0.021277</td>\n",
       "      <td>0.6</td>\n",
       "      <td>0.750000</td>\n",
       "    </tr>\n",
       "  </tbody>\n",
       "</table>\n",
       "<p>6955 rows × 9 columns</p>\n",
       "</div>"
      ],
      "text/plain": [
       "      ARTICLE_ID       DATE      TIME  TICKET_NUMBER   ARTICLE  \\\n",
       "1       0.000000 2021-04-02  0.666667       0.000000  0.425532   \n",
       "2       0.000013 2021-04-02  0.693046       0.000016  0.638298   \n",
       "3       0.000017 2021-04-02  0.693046       0.000016  0.000000   \n",
       "4       0.000030 2021-04-02  0.695444       0.000032  0.212766   \n",
       "5       0.000035 2021-04-02  0.695444       0.000032  0.670213   \n",
       "...          ...        ...       ...            ...       ...   \n",
       "6951    0.999965 2021-12-26  0.422062       0.999968  0.074468   \n",
       "6952    0.999970 2021-12-26  0.422062       0.999968  0.287234   \n",
       "6953    0.999983 2021-12-26  0.426859       0.999984  0.659574   \n",
       "6954    0.999996 2021-12-26  0.431655       1.000000  0.840426   \n",
       "6955    1.000000 2021-12-26  0.431655       1.000000  0.223404   \n",
       "\n",
       "      SALES QUANTITY  UNIT_PRICE  DAY   HOLIDAY  \n",
       "1           0.052632    0.829787  0.0  0.583333  \n",
       "2           0.000000    0.255319  0.0  0.583333  \n",
       "3           0.000000    0.148936  0.0  0.583333  \n",
       "4           0.000000    0.170213  0.0  0.583333  \n",
       "5           0.052632    0.340426  0.0  0.583333  \n",
       "...              ...         ...  ...       ...  \n",
       "6951        0.000000    0.340426  0.6  0.750000  \n",
       "6952        0.000000    0.808511  0.6  0.750000  \n",
       "6953        0.000000    0.319149  0.6  0.750000  \n",
       "6954        0.000000    0.574468  0.6  0.750000  \n",
       "6955        0.000000    0.021277  0.6  0.750000  \n",
       "\n",
       "[6955 rows x 9 columns]"
      ]
     },
     "execution_count": 29,
     "metadata": {},
     "output_type": "execute_result"
    }
   ],
   "source": [
    "train1=merged_df2\n",
    "scaler=MinMaxScaler()\n",
    "scaler.fit(train1[['ARTICLE','ARTICLE_ID','HOLIDAY','DAY','SALES QUANTITY','TICKET_NUMBER', 'UNIT_PRICE', 'TIME']])\n",
    "(train1[['ARTICLE','ARTICLE_ID','HOLIDAY','DAY','SALES QUANTITY','TICKET_NUMBER', 'UNIT_PRICE', 'TIME']])=scaler.transform(train1[['ARTICLE','ARTICLE_ID','HOLIDAY','DAY','SALES QUANTITY','TICKET_NUMBER', 'UNIT_PRICE', 'TIME']])\n",
    "train1"
   ]
  },
  {
   "cell_type": "code",
   "execution_count": 30,
   "id": "effd04a4",
   "metadata": {},
   "outputs": [],
   "source": [
    "x = merged_df2.drop(\"SALES QUANTITY\", axis=1)\n",
    "y = (\"SALES QUANTITY\")"
   ]
  },
  {
   "cell_type": "code",
   "execution_count": 31,
   "id": "6a5667cd",
   "metadata": {},
   "outputs": [
    {
     "name": "stdout",
     "output_type": "stream",
     "text": [
      "80% of the total Rows is 5564\n"
     ]
    }
   ],
   "source": [
    "T_rows = int(0.8*(len(train1)))\n",
    "print(\"80% of the total Rows is\",T_rows)\n",
    "train_df1 = merged_df2.sample(n=T_rows, random_state=37)\n",
    "test_df1 = merged_df2.drop(train_df1.index)"
   ]
  },
  {
   "cell_type": "code",
   "execution_count": 32,
   "id": "c9ed03c8",
   "metadata": {},
   "outputs": [
    {
     "data": {
      "text/html": [
       "<div>\n",
       "<style scoped>\n",
       "    .dataframe tbody tr th:only-of-type {\n",
       "        vertical-align: middle;\n",
       "    }\n",
       "\n",
       "    .dataframe tbody tr th {\n",
       "        vertical-align: top;\n",
       "    }\n",
       "\n",
       "    .dataframe thead th {\n",
       "        text-align: right;\n",
       "    }\n",
       "</style>\n",
       "<table border=\"1\" class=\"dataframe\">\n",
       "  <thead>\n",
       "    <tr style=\"text-align: right;\">\n",
       "      <th></th>\n",
       "      <th>ARTICLE_ID</th>\n",
       "      <th>DATE</th>\n",
       "      <th>TIME</th>\n",
       "      <th>TICKET_NUMBER</th>\n",
       "      <th>ARTICLE</th>\n",
       "      <th>SALES QUANTITY</th>\n",
       "      <th>UNIT_PRICE</th>\n",
       "      <th>DAY</th>\n",
       "      <th>HOLIDAY</th>\n",
       "    </tr>\n",
       "  </thead>\n",
       "  <tbody>\n",
       "    <tr>\n",
       "      <th>5544</th>\n",
       "      <td>0.870153</td>\n",
       "      <td>2021-11-01</td>\n",
       "      <td>0.187050</td>\n",
       "      <td>0.869034</td>\n",
       "      <td>0.957447</td>\n",
       "      <td>0.000000</td>\n",
       "      <td>0.255319</td>\n",
       "      <td>0.2</td>\n",
       "      <td>0.000000</td>\n",
       "    </tr>\n",
       "    <tr>\n",
       "      <th>3956</th>\n",
       "      <td>0.382689</td>\n",
       "      <td>2021-07-14</td>\n",
       "      <td>0.047962</td>\n",
       "      <td>0.382721</td>\n",
       "      <td>0.925532</td>\n",
       "      <td>0.052632</td>\n",
       "      <td>0.531915</td>\n",
       "      <td>1.0</td>\n",
       "      <td>0.333333</td>\n",
       "    </tr>\n",
       "    <tr>\n",
       "      <th>6036</th>\n",
       "      <td>0.902166</td>\n",
       "      <td>2021-11-11</td>\n",
       "      <td>0.254197</td>\n",
       "      <td>0.901360</td>\n",
       "      <td>0.957447</td>\n",
       "      <td>0.052632</td>\n",
       "      <td>0.255319</td>\n",
       "      <td>0.8</td>\n",
       "      <td>0.083333</td>\n",
       "    </tr>\n",
       "    <tr>\n",
       "      <th>1081</th>\n",
       "      <td>0.104831</td>\n",
       "      <td>2021-05-01</td>\n",
       "      <td>0.194245</td>\n",
       "      <td>0.106076</td>\n",
       "      <td>0.957447</td>\n",
       "      <td>0.157895</td>\n",
       "      <td>0.255319</td>\n",
       "      <td>0.4</td>\n",
       "      <td>0.666667</td>\n",
       "    </tr>\n",
       "    <tr>\n",
       "      <th>2259</th>\n",
       "      <td>0.153631</td>\n",
       "      <td>2021-05-13</td>\n",
       "      <td>0.266187</td>\n",
       "      <td>0.154727</td>\n",
       "      <td>0.957447</td>\n",
       "      <td>0.000000</td>\n",
       "      <td>0.255319</td>\n",
       "      <td>0.8</td>\n",
       "      <td>0.166667</td>\n",
       "    </tr>\n",
       "    <tr>\n",
       "      <th>...</th>\n",
       "      <td>...</td>\n",
       "      <td>...</td>\n",
       "      <td>...</td>\n",
       "      <td>...</td>\n",
       "      <td>...</td>\n",
       "      <td>...</td>\n",
       "      <td>...</td>\n",
       "      <td>...</td>\n",
       "      <td>...</td>\n",
       "    </tr>\n",
       "    <tr>\n",
       "      <th>2909</th>\n",
       "      <td>0.185273</td>\n",
       "      <td>2021-05-23</td>\n",
       "      <td>0.244604</td>\n",
       "      <td>0.184682</td>\n",
       "      <td>0.872340</td>\n",
       "      <td>0.000000</td>\n",
       "      <td>0.042553</td>\n",
       "      <td>0.6</td>\n",
       "      <td>1.000000</td>\n",
       "    </tr>\n",
       "    <tr>\n",
       "      <th>1410</th>\n",
       "      <td>0.129490</td>\n",
       "      <td>2021-05-08</td>\n",
       "      <td>0.021583</td>\n",
       "      <td>0.130902</td>\n",
       "      <td>0.223404</td>\n",
       "      <td>0.000000</td>\n",
       "      <td>0.021277</td>\n",
       "      <td>0.4</td>\n",
       "      <td>0.833333</td>\n",
       "    </tr>\n",
       "    <tr>\n",
       "      <th>3835</th>\n",
       "      <td>0.381622</td>\n",
       "      <td>2021-07-14</td>\n",
       "      <td>0.947242</td>\n",
       "      <td>0.381721</td>\n",
       "      <td>0.223404</td>\n",
       "      <td>0.000000</td>\n",
       "      <td>0.021277</td>\n",
       "      <td>1.0</td>\n",
       "      <td>0.333333</td>\n",
       "    </tr>\n",
       "    <tr>\n",
       "      <th>605</th>\n",
       "      <td>0.016468</td>\n",
       "      <td>2021-04-05</td>\n",
       "      <td>0.124700</td>\n",
       "      <td>0.016034</td>\n",
       "      <td>0.000000</td>\n",
       "      <td>0.000000</td>\n",
       "      <td>0.148936</td>\n",
       "      <td>0.2</td>\n",
       "      <td>0.500000</td>\n",
       "    </tr>\n",
       "    <tr>\n",
       "      <th>3573</th>\n",
       "      <td>0.191190</td>\n",
       "      <td>2021-05-24</td>\n",
       "      <td>0.287770</td>\n",
       "      <td>0.190280</td>\n",
       "      <td>0.957447</td>\n",
       "      <td>0.000000</td>\n",
       "      <td>0.255319</td>\n",
       "      <td>0.2</td>\n",
       "      <td>0.916667</td>\n",
       "    </tr>\n",
       "  </tbody>\n",
       "</table>\n",
       "<p>5564 rows × 9 columns</p>\n",
       "</div>"
      ],
      "text/plain": [
       "      ARTICLE_ID       DATE      TIME  TICKET_NUMBER   ARTICLE  \\\n",
       "5544    0.870153 2021-11-01  0.187050       0.869034  0.957447   \n",
       "3956    0.382689 2021-07-14  0.047962       0.382721  0.925532   \n",
       "6036    0.902166 2021-11-11  0.254197       0.901360  0.957447   \n",
       "1081    0.104831 2021-05-01  0.194245       0.106076  0.957447   \n",
       "2259    0.153631 2021-05-13  0.266187       0.154727  0.957447   \n",
       "...          ...        ...       ...            ...       ...   \n",
       "2909    0.185273 2021-05-23  0.244604       0.184682  0.872340   \n",
       "1410    0.129490 2021-05-08  0.021583       0.130902  0.223404   \n",
       "3835    0.381622 2021-07-14  0.947242       0.381721  0.223404   \n",
       "605     0.016468 2021-04-05  0.124700       0.016034  0.000000   \n",
       "3573    0.191190 2021-05-24  0.287770       0.190280  0.957447   \n",
       "\n",
       "      SALES QUANTITY  UNIT_PRICE  DAY   HOLIDAY  \n",
       "5544        0.000000    0.255319  0.2  0.000000  \n",
       "3956        0.052632    0.531915  1.0  0.333333  \n",
       "6036        0.052632    0.255319  0.8  0.083333  \n",
       "1081        0.157895    0.255319  0.4  0.666667  \n",
       "2259        0.000000    0.255319  0.8  0.166667  \n",
       "...              ...         ...  ...       ...  \n",
       "2909        0.000000    0.042553  0.6  1.000000  \n",
       "1410        0.000000    0.021277  0.4  0.833333  \n",
       "3835        0.000000    0.021277  1.0  0.333333  \n",
       "605         0.000000    0.148936  0.2  0.500000  \n",
       "3573        0.000000    0.255319  0.2  0.916667  \n",
       "\n",
       "[5564 rows x 9 columns]"
      ]
     },
     "execution_count": 32,
     "metadata": {},
     "output_type": "execute_result"
    }
   ],
   "source": [
    "train_df1"
   ]
  },
  {
   "cell_type": "code",
   "execution_count": 33,
   "id": "141febad",
   "metadata": {},
   "outputs": [
    {
     "data": {
      "text/html": [
       "<div>\n",
       "<style scoped>\n",
       "    .dataframe tbody tr th:only-of-type {\n",
       "        vertical-align: middle;\n",
       "    }\n",
       "\n",
       "    .dataframe tbody tr th {\n",
       "        vertical-align: top;\n",
       "    }\n",
       "\n",
       "    .dataframe thead th {\n",
       "        text-align: right;\n",
       "    }\n",
       "</style>\n",
       "<table border=\"1\" class=\"dataframe\">\n",
       "  <thead>\n",
       "    <tr style=\"text-align: right;\">\n",
       "      <th></th>\n",
       "      <th>ARTICLE_ID</th>\n",
       "      <th>DATE</th>\n",
       "      <th>TIME</th>\n",
       "      <th>TICKET_NUMBER</th>\n",
       "      <th>ARTICLE</th>\n",
       "      <th>SALES QUANTITY</th>\n",
       "      <th>UNIT_PRICE</th>\n",
       "      <th>DAY</th>\n",
       "      <th>HOLIDAY</th>\n",
       "    </tr>\n",
       "  </thead>\n",
       "  <tbody>\n",
       "    <tr>\n",
       "      <th>7</th>\n",
       "      <td>0.000061</td>\n",
       "      <td>2021-04-02</td>\n",
       "      <td>0.707434</td>\n",
       "      <td>0.000065</td>\n",
       "      <td>0.234043</td>\n",
       "      <td>0.052632</td>\n",
       "      <td>0.212766</td>\n",
       "      <td>0.0</td>\n",
       "      <td>0.583333</td>\n",
       "    </tr>\n",
       "    <tr>\n",
       "      <th>16</th>\n",
       "      <td>0.000135</td>\n",
       "      <td>2021-04-02</td>\n",
       "      <td>0.733813</td>\n",
       "      <td>0.000129</td>\n",
       "      <td>0.957447</td>\n",
       "      <td>0.000000</td>\n",
       "      <td>0.255319</td>\n",
       "      <td>0.0</td>\n",
       "      <td>0.583333</td>\n",
       "    </tr>\n",
       "    <tr>\n",
       "      <th>17</th>\n",
       "      <td>0.000139</td>\n",
       "      <td>2021-04-02</td>\n",
       "      <td>0.733813</td>\n",
       "      <td>0.000129</td>\n",
       "      <td>0.638298</td>\n",
       "      <td>0.000000</td>\n",
       "      <td>0.255319</td>\n",
       "      <td>0.0</td>\n",
       "      <td>0.583333</td>\n",
       "    </tr>\n",
       "    <tr>\n",
       "      <th>25</th>\n",
       "      <td>0.000209</td>\n",
       "      <td>2021-04-02</td>\n",
       "      <td>0.769784</td>\n",
       "      <td>0.000194</td>\n",
       "      <td>0.234043</td>\n",
       "      <td>0.000000</td>\n",
       "      <td>0.212766</td>\n",
       "      <td>0.0</td>\n",
       "      <td>0.583333</td>\n",
       "    </tr>\n",
       "    <tr>\n",
       "      <th>46</th>\n",
       "      <td>0.000431</td>\n",
       "      <td>2021-04-02</td>\n",
       "      <td>0.810552</td>\n",
       "      <td>0.000436</td>\n",
       "      <td>0.095745</td>\n",
       "      <td>0.000000</td>\n",
       "      <td>0.765957</td>\n",
       "      <td>0.0</td>\n",
       "      <td>0.583333</td>\n",
       "    </tr>\n",
       "    <tr>\n",
       "      <th>...</th>\n",
       "      <td>...</td>\n",
       "      <td>...</td>\n",
       "      <td>...</td>\n",
       "      <td>...</td>\n",
       "      <td>...</td>\n",
       "      <td>...</td>\n",
       "      <td>...</td>\n",
       "      <td>...</td>\n",
       "      <td>...</td>\n",
       "    </tr>\n",
       "    <tr>\n",
       "      <th>6934</th>\n",
       "      <td>0.999821</td>\n",
       "      <td>2021-12-26</td>\n",
       "      <td>0.364508</td>\n",
       "      <td>0.999839</td>\n",
       "      <td>0.968085</td>\n",
       "      <td>0.052632</td>\n",
       "      <td>1.000000</td>\n",
       "      <td>0.6</td>\n",
       "      <td>0.750000</td>\n",
       "    </tr>\n",
       "    <tr>\n",
       "      <th>6942</th>\n",
       "      <td>0.999891</td>\n",
       "      <td>2021-12-26</td>\n",
       "      <td>0.393285</td>\n",
       "      <td>0.999903</td>\n",
       "      <td>0.840426</td>\n",
       "      <td>0.000000</td>\n",
       "      <td>0.574468</td>\n",
       "      <td>0.6</td>\n",
       "      <td>0.750000</td>\n",
       "    </tr>\n",
       "    <tr>\n",
       "      <th>6946</th>\n",
       "      <td>0.999917</td>\n",
       "      <td>2021-12-26</td>\n",
       "      <td>0.402878</td>\n",
       "      <td>0.999919</td>\n",
       "      <td>0.351064</td>\n",
       "      <td>0.052632</td>\n",
       "      <td>0.680851</td>\n",
       "      <td>0.6</td>\n",
       "      <td>0.750000</td>\n",
       "    </tr>\n",
       "    <tr>\n",
       "      <th>6949</th>\n",
       "      <td>0.999948</td>\n",
       "      <td>2021-12-26</td>\n",
       "      <td>0.410072</td>\n",
       "      <td>0.999952</td>\n",
       "      <td>0.000000</td>\n",
       "      <td>0.052632</td>\n",
       "      <td>0.148936</td>\n",
       "      <td>0.6</td>\n",
       "      <td>0.750000</td>\n",
       "    </tr>\n",
       "    <tr>\n",
       "      <th>6953</th>\n",
       "      <td>0.999983</td>\n",
       "      <td>2021-12-26</td>\n",
       "      <td>0.426859</td>\n",
       "      <td>0.999984</td>\n",
       "      <td>0.659574</td>\n",
       "      <td>0.000000</td>\n",
       "      <td>0.319149</td>\n",
       "      <td>0.6</td>\n",
       "      <td>0.750000</td>\n",
       "    </tr>\n",
       "  </tbody>\n",
       "</table>\n",
       "<p>1391 rows × 9 columns</p>\n",
       "</div>"
      ],
      "text/plain": [
       "      ARTICLE_ID       DATE      TIME  TICKET_NUMBER   ARTICLE  \\\n",
       "7       0.000061 2021-04-02  0.707434       0.000065  0.234043   \n",
       "16      0.000135 2021-04-02  0.733813       0.000129  0.957447   \n",
       "17      0.000139 2021-04-02  0.733813       0.000129  0.638298   \n",
       "25      0.000209 2021-04-02  0.769784       0.000194  0.234043   \n",
       "46      0.000431 2021-04-02  0.810552       0.000436  0.095745   \n",
       "...          ...        ...       ...            ...       ...   \n",
       "6934    0.999821 2021-12-26  0.364508       0.999839  0.968085   \n",
       "6942    0.999891 2021-12-26  0.393285       0.999903  0.840426   \n",
       "6946    0.999917 2021-12-26  0.402878       0.999919  0.351064   \n",
       "6949    0.999948 2021-12-26  0.410072       0.999952  0.000000   \n",
       "6953    0.999983 2021-12-26  0.426859       0.999984  0.659574   \n",
       "\n",
       "      SALES QUANTITY  UNIT_PRICE  DAY   HOLIDAY  \n",
       "7           0.052632    0.212766  0.0  0.583333  \n",
       "16          0.000000    0.255319  0.0  0.583333  \n",
       "17          0.000000    0.255319  0.0  0.583333  \n",
       "25          0.000000    0.212766  0.0  0.583333  \n",
       "46          0.000000    0.765957  0.0  0.583333  \n",
       "...              ...         ...  ...       ...  \n",
       "6934        0.052632    1.000000  0.6  0.750000  \n",
       "6942        0.000000    0.574468  0.6  0.750000  \n",
       "6946        0.052632    0.680851  0.6  0.750000  \n",
       "6949        0.052632    0.148936  0.6  0.750000  \n",
       "6953        0.000000    0.319149  0.6  0.750000  \n",
       "\n",
       "[1391 rows x 9 columns]"
      ]
     },
     "execution_count": 33,
     "metadata": {},
     "output_type": "execute_result"
    }
   ],
   "source": [
    "test_df1"
   ]
  },
  {
   "cell_type": "code",
   "execution_count": 34,
   "id": "5dabec1f",
   "metadata": {},
   "outputs": [],
   "source": [
    "# Separate input features and target variable\n",
    "x_train=train_df1.loc[:,['ARTICLE','ARTICLE_ID','HOLIDAY','DAY','TICKET_NUMBER', 'TIME', 'UNIT_PRICE']]\n",
    "y_train=train_df1.loc[:,['SALES QUANTITY']]\n",
    "x_test=test_df1.loc[:,['ARTICLE','ARTICLE_ID','HOLIDAY','DAY','TICKET_NUMBER', 'TIME', 'UNIT_PRICE']]\n",
    "y_test=test_df1.loc[:,['SALES QUANTITY']]"
   ]
  },
  {
   "cell_type": "code",
   "execution_count": 35,
   "id": "e1ac87bb",
   "metadata": {},
   "outputs": [
    {
     "name": "stdout",
     "output_type": "stream",
     "text": [
      "Requirement already satisfied: xgboost in c:\\users\\lim\\anaconda3\\lib\\site-packages (1.7.6)\n",
      "Requirement already satisfied: scipy in c:\\users\\lim\\anaconda3\\lib\\site-packages (from xgboost) (1.9.1)\n",
      "Requirement already satisfied: numpy in c:\\users\\lim\\anaconda3\\lib\\site-packages (from xgboost) (1.21.5)\n"
     ]
    }
   ],
   "source": [
    "!pip install xgboost\n",
    "import xgboost as xgb\n",
    "from sklearn.ensemble import RandomForestRegressor\n",
    "from sklearn.neural_network import MLPRegressor\n",
    "from sklearn.ensemble import GradientBoostingRegressor\n",
    "from sklearn import metrics\n",
    "from xgboost import XGBRegressor\n",
    "from sklearn.tree import DecisionTreeRegressor\n",
    "from sklearn.neural_network import MLPRegressor\n",
    "from sklearn.metrics import mean_absolute_error\n",
    "from sklearn.ensemble import VotingRegressor"
   ]
  },
  {
   "cell_type": "code",
   "execution_count": 36,
   "id": "2c44e7ea",
   "metadata": {},
   "outputs": [
    {
     "name": "stderr",
     "output_type": "stream",
     "text": [
      "C:\\Users\\LIM\\anaconda3\\lib\\site-packages\\sklearn\\base.py:1151: DataConversionWarning: A column-vector y was passed when a 1d array was expected. Please change the shape of y to (n_samples,), for example using ravel().\n",
      "  return fit_method(estimator, *args, **kwargs)\n"
     ]
    },
    {
     "data": {
      "text/html": [
       "<style>#sk-container-id-1 {color: black;}#sk-container-id-1 pre{padding: 0;}#sk-container-id-1 div.sk-toggleable {background-color: white;}#sk-container-id-1 label.sk-toggleable__label {cursor: pointer;display: block;width: 100%;margin-bottom: 0;padding: 0.3em;box-sizing: border-box;text-align: center;}#sk-container-id-1 label.sk-toggleable__label-arrow:before {content: \"▸\";float: left;margin-right: 0.25em;color: #696969;}#sk-container-id-1 label.sk-toggleable__label-arrow:hover:before {color: black;}#sk-container-id-1 div.sk-estimator:hover label.sk-toggleable__label-arrow:before {color: black;}#sk-container-id-1 div.sk-toggleable__content {max-height: 0;max-width: 0;overflow: hidden;text-align: left;background-color: #f0f8ff;}#sk-container-id-1 div.sk-toggleable__content pre {margin: 0.2em;color: black;border-radius: 0.25em;background-color: #f0f8ff;}#sk-container-id-1 input.sk-toggleable__control:checked~div.sk-toggleable__content {max-height: 200px;max-width: 100%;overflow: auto;}#sk-container-id-1 input.sk-toggleable__control:checked~label.sk-toggleable__label-arrow:before {content: \"▾\";}#sk-container-id-1 div.sk-estimator input.sk-toggleable__control:checked~label.sk-toggleable__label {background-color: #d4ebff;}#sk-container-id-1 div.sk-label input.sk-toggleable__control:checked~label.sk-toggleable__label {background-color: #d4ebff;}#sk-container-id-1 input.sk-hidden--visually {border: 0;clip: rect(1px 1px 1px 1px);clip: rect(1px, 1px, 1px, 1px);height: 1px;margin: -1px;overflow: hidden;padding: 0;position: absolute;width: 1px;}#sk-container-id-1 div.sk-estimator {font-family: monospace;background-color: #f0f8ff;border: 1px dotted black;border-radius: 0.25em;box-sizing: border-box;margin-bottom: 0.5em;}#sk-container-id-1 div.sk-estimator:hover {background-color: #d4ebff;}#sk-container-id-1 div.sk-parallel-item::after {content: \"\";width: 100%;border-bottom: 1px solid gray;flex-grow: 1;}#sk-container-id-1 div.sk-label:hover label.sk-toggleable__label {background-color: #d4ebff;}#sk-container-id-1 div.sk-serial::before {content: \"\";position: absolute;border-left: 1px solid gray;box-sizing: border-box;top: 0;bottom: 0;left: 50%;z-index: 0;}#sk-container-id-1 div.sk-serial {display: flex;flex-direction: column;align-items: center;background-color: white;padding-right: 0.2em;padding-left: 0.2em;position: relative;}#sk-container-id-1 div.sk-item {position: relative;z-index: 1;}#sk-container-id-1 div.sk-parallel {display: flex;align-items: stretch;justify-content: center;background-color: white;position: relative;}#sk-container-id-1 div.sk-item::before, #sk-container-id-1 div.sk-parallel-item::before {content: \"\";position: absolute;border-left: 1px solid gray;box-sizing: border-box;top: 0;bottom: 0;left: 50%;z-index: -1;}#sk-container-id-1 div.sk-parallel-item {display: flex;flex-direction: column;z-index: 1;position: relative;background-color: white;}#sk-container-id-1 div.sk-parallel-item:first-child::after {align-self: flex-end;width: 50%;}#sk-container-id-1 div.sk-parallel-item:last-child::after {align-self: flex-start;width: 50%;}#sk-container-id-1 div.sk-parallel-item:only-child::after {width: 0;}#sk-container-id-1 div.sk-dashed-wrapped {border: 1px dashed gray;margin: 0 0.4em 0.5em 0.4em;box-sizing: border-box;padding-bottom: 0.4em;background-color: white;}#sk-container-id-1 div.sk-label label {font-family: monospace;font-weight: bold;display: inline-block;line-height: 1.2em;}#sk-container-id-1 div.sk-label-container {text-align: center;}#sk-container-id-1 div.sk-container {/* jupyter's `normalize.less` sets `[hidden] { display: none; }` but bootstrap.min.css set `[hidden] { display: none !important; }` so we also need the `!important` here to be able to override the default hidden behavior on the sphinx rendered scikit-learn.org. See: https://github.com/scikit-learn/scikit-learn/issues/21755 */display: inline-block !important;position: relative;}#sk-container-id-1 div.sk-text-repr-fallback {display: none;}</style><div id=\"sk-container-id-1\" class=\"sk-top-container\"><div class=\"sk-text-repr-fallback\"><pre>RandomForestRegressor(max_depth=10, random_state=37)</pre><b>In a Jupyter environment, please rerun this cell to show the HTML representation or trust the notebook. <br />On GitHub, the HTML representation is unable to render, please try loading this page with nbviewer.org.</b></div><div class=\"sk-container\" hidden><div class=\"sk-item\"><div class=\"sk-estimator sk-toggleable\"><input class=\"sk-toggleable__control sk-hidden--visually\" id=\"sk-estimator-id-1\" type=\"checkbox\" checked><label for=\"sk-estimator-id-1\" class=\"sk-toggleable__label sk-toggleable__label-arrow\">RandomForestRegressor</label><div class=\"sk-toggleable__content\"><pre>RandomForestRegressor(max_depth=10, random_state=37)</pre></div></div></div></div></div>"
      ],
      "text/plain": [
       "RandomForestRegressor(max_depth=10, random_state=37)"
      ]
     },
     "execution_count": 36,
     "metadata": {},
     "output_type": "execute_result"
    }
   ],
   "source": [
    "rf_model_100 = RandomForestRegressor(n_estimators=100, max_depth=10, random_state=37)\n",
    "rf_model_100.fit(x_train, y_train)"
   ]
  },
  {
   "cell_type": "code",
   "execution_count": 37,
   "id": "a6aedfa5",
   "metadata": {
    "scrolled": true
   },
   "outputs": [
    {
     "data": {
      "text/plain": [
       "array([0.03837717, 0.04507138, 0.0547427 , ..., 0.03697365, 0.02022497,\n",
       "       0.01329637])"
      ]
     },
     "execution_count": 37,
     "metadata": {},
     "output_type": "execute_result"
    }
   ],
   "source": [
    "rf_100_preds = rf_model_100.predict(x_test)\n",
    "rf_100_preds"
   ]
  },
  {
   "cell_type": "code",
   "execution_count": 38,
   "id": "40f94775",
   "metadata": {},
   "outputs": [
    {
     "name": "stdout",
     "output_type": "stream",
     "text": [
      "Mean Squared Error: 0.004266808742369318\n",
      "Mean Absolute Error: 0.039678498966219854\n",
      "Root Mean Squared Error: 0.06532081400571581\n"
     ]
    }
   ],
   "source": [
    "print('Mean Squared Error:', metrics.mean_squared_error(y_test, rf_100_preds))\n",
    "print('Mean Absolute Error:', metrics.mean_absolute_error(y_test, rf_100_preds))\n",
    "print('Root Mean Squared Error:',np.sqrt(metrics.mean_squared_error(y_test, rf_100_preds)))"
   ]
  },
  {
   "cell_type": "code",
   "execution_count": 39,
   "id": "537dd49e",
   "metadata": {},
   "outputs": [
    {
     "data": {
      "image/png": "[encoded data removed]",
      "text/plain": [
       "<Figure size 640x480 with 1 Axes>"
      ]
     },
     "metadata": {},
     "output_type": "display_data"
    }
   ],
   "source": [
    "mse_rf_100 = metrics.mean_squared_error(y_test, rf_100_preds)\n",
    "mae_rf_100 = metrics.mean_absolute_error(y_test, rf_100_preds)\n",
    "rmse_rf_100 = np.sqrt(metrics.mean_squared_error(y_test, rf_100_preds))\n",
    "\n",
    "# Labels for the x-axis\n",
    "errors = ['MSE', 'MAE', 'RMSE']\n",
    "\n",
    "# Values for the y-axis\n",
    "error_values = [mse_rf_100, mae_rf_100, rmse_rf_100]\n",
    "\n",
    "# Create the bar chart\n",
    "plt.bar(errors, error_values)\n",
    "\n",
    "for i, value in enumerate(error_values):\n",
    "    plt.text(i, value, f'{value:.6f}', ha='center', va='bottom')\n",
    "\n",
    "# Add labels and title\n",
    "plt.xlabel('Error Metrics')\n",
    "plt.ylabel('Error Values')\n",
    "plt.title('Comparison of MSE, MAE, and RMSE (N-Tree 100)')\n",
    "plt.show()"
   ]
  },
  {
   "cell_type": "code",
   "execution_count": 40,
   "id": "03fa3e44",
   "metadata": {},
   "outputs": [
    {
     "name": "stderr",
     "output_type": "stream",
     "text": [
      "C:\\Users\\LIM\\anaconda3\\lib\\site-packages\\sklearn\\base.py:1151: DataConversionWarning: A column-vector y was passed when a 1d array was expected. Please change the shape of y to (n_samples,), for example using ravel().\n",
      "  return fit_method(estimator, *args, **kwargs)\n"
     ]
    },
    {
     "data": {
      "text/html": [
       "<style>#sk-container-id-2 {color: black;}#sk-container-id-2 pre{padding: 0;}#sk-container-id-2 div.sk-toggleable {background-color: white;}#sk-container-id-2 label.sk-toggleable__label {cursor: pointer;display: block;width: 100%;margin-bottom: 0;padding: 0.3em;box-sizing: border-box;text-align: center;}#sk-container-id-2 label.sk-toggleable__label-arrow:before {content: \"▸\";float: left;margin-right: 0.25em;color: #696969;}#sk-container-id-2 label.sk-toggleable__label-arrow:hover:before {color: black;}#sk-container-id-2 div.sk-estimator:hover label.sk-toggleable__label-arrow:before {color: black;}#sk-container-id-2 div.sk-toggleable__content {max-height: 0;max-width: 0;overflow: hidden;text-align: left;background-color: #f0f8ff;}#sk-container-id-2 div.sk-toggleable__content pre {margin: 0.2em;color: black;border-radius: 0.25em;background-color: #f0f8ff;}#sk-container-id-2 input.sk-toggleable__control:checked~div.sk-toggleable__content {max-height: 200px;max-width: 100%;overflow: auto;}#sk-container-id-2 input.sk-toggleable__control:checked~label.sk-toggleable__label-arrow:before {content: \"▾\";}#sk-container-id-2 div.sk-estimator input.sk-toggleable__control:checked~label.sk-toggleable__label {background-color: #d4ebff;}#sk-container-id-2 div.sk-label input.sk-toggleable__control:checked~label.sk-toggleable__label {background-color: #d4ebff;}#sk-container-id-2 input.sk-hidden--visually {border: 0;clip: rect(1px 1px 1px 1px);clip: rect(1px, 1px, 1px, 1px);height: 1px;margin: -1px;overflow: hidden;padding: 0;position: absolute;width: 1px;}#sk-container-id-2 div.sk-estimator {font-family: monospace;background-color: #f0f8ff;border: 1px dotted black;border-radius: 0.25em;box-sizing: border-box;margin-bottom: 0.5em;}#sk-container-id-2 div.sk-estimator:hover {background-color: #d4ebff;}#sk-container-id-2 div.sk-parallel-item::after {content: \"\";width: 100%;border-bottom: 1px solid gray;flex-grow: 1;}#sk-container-id-2 div.sk-label:hover label.sk-toggleable__label {background-color: #d4ebff;}#sk-container-id-2 div.sk-serial::before {content: \"\";position: absolute;border-left: 1px solid gray;box-sizing: border-box;top: 0;bottom: 0;left: 50%;z-index: 0;}#sk-container-id-2 div.sk-serial {display: flex;flex-direction: column;align-items: center;background-color: white;padding-right: 0.2em;padding-left: 0.2em;position: relative;}#sk-container-id-2 div.sk-item {position: relative;z-index: 1;}#sk-container-id-2 div.sk-parallel {display: flex;align-items: stretch;justify-content: center;background-color: white;position: relative;}#sk-container-id-2 div.sk-item::before, #sk-container-id-2 div.sk-parallel-item::before {content: \"\";position: absolute;border-left: 1px solid gray;box-sizing: border-box;top: 0;bottom: 0;left: 50%;z-index: -1;}#sk-container-id-2 div.sk-parallel-item {display: flex;flex-direction: column;z-index: 1;position: relative;background-color: white;}#sk-container-id-2 div.sk-parallel-item:first-child::after {align-self: flex-end;width: 50%;}#sk-container-id-2 div.sk-parallel-item:last-child::after {align-self: flex-start;width: 50%;}#sk-container-id-2 div.sk-parallel-item:only-child::after {width: 0;}#sk-container-id-2 div.sk-dashed-wrapped {border: 1px dashed gray;margin: 0 0.4em 0.5em 0.4em;box-sizing: border-box;padding-bottom: 0.4em;background-color: white;}#sk-container-id-2 div.sk-label label {font-family: monospace;font-weight: bold;display: inline-block;line-height: 1.2em;}#sk-container-id-2 div.sk-label-container {text-align: center;}#sk-container-id-2 div.sk-container {/* jupyter's `normalize.less` sets `[hidden] { display: none; }` but bootstrap.min.css set `[hidden] { display: none !important; }` so we also need the `!important` here to be able to override the default hidden behavior on the sphinx rendered scikit-learn.org. See: https://github.com/scikit-learn/scikit-learn/issues/21755 */display: inline-block !important;position: relative;}#sk-container-id-2 div.sk-text-repr-fallback {display: none;}</style><div id=\"sk-container-id-2\" class=\"sk-top-container\"><div class=\"sk-text-repr-fallback\"><pre>RandomForestRegressor(max_depth=10, n_estimators=200, random_state=37)</pre><b>In a Jupyter environment, please rerun this cell to show the HTML representation or trust the notebook. <br />On GitHub, the HTML representation is unable to render, please try loading this page with nbviewer.org.</b></div><div class=\"sk-container\" hidden><div class=\"sk-item\"><div class=\"sk-estimator sk-toggleable\"><input class=\"sk-toggleable__control sk-hidden--visually\" id=\"sk-estimator-id-2\" type=\"checkbox\" checked><label for=\"sk-estimator-id-2\" class=\"sk-toggleable__label sk-toggleable__label-arrow\">RandomForestRegressor</label><div class=\"sk-toggleable__content\"><pre>RandomForestRegressor(max_depth=10, n_estimators=200, random_state=37)</pre></div></div></div></div></div>"
      ],
      "text/plain": [
       "RandomForestRegressor(max_depth=10, n_estimators=200, random_state=37)"
      ]
     },
     "execution_count": 40,
     "metadata": {},
     "output_type": "execute_result"
    }
   ],
   "source": [
    "rf_model_200 = RandomForestRegressor(n_estimators=200, max_depth=10, random_state=37)\n",
    "rf_model_200.fit(x_train, y_train)"
   ]
  },
  {
   "cell_type": "code",
   "execution_count": 41,
   "id": "fdc42f59",
   "metadata": {},
   "outputs": [
    {
     "name": "stderr",
     "output_type": "stream",
     "text": [
      "C:\\Users\\LIM\\anaconda3\\lib\\site-packages\\sklearn\\base.py:1151: DataConversionWarning: A column-vector y was passed when a 1d array was expected. Please change the shape of y to (n_samples,), for example using ravel().\n",
      "  return fit_method(estimator, *args, **kwargs)\n"
     ]
    },
    {
     "data": {
      "text/html": [
       "<style>#sk-container-id-3 {color: black;}#sk-container-id-3 pre{padding: 0;}#sk-container-id-3 div.sk-toggleable {background-color: white;}#sk-container-id-3 label.sk-toggleable__label {cursor: pointer;display: block;width: 100%;margin-bottom: 0;padding: 0.3em;box-sizing: border-box;text-align: center;}#sk-container-id-3 label.sk-toggleable__label-arrow:before {content: \"▸\";float: left;margin-right: 0.25em;color: #696969;}#sk-container-id-3 label.sk-toggleable__label-arrow:hover:before {color: black;}#sk-container-id-3 div.sk-estimator:hover label.sk-toggleable__label-arrow:before {color: black;}#sk-container-id-3 div.sk-toggleable__content {max-height: 0;max-width: 0;overflow: hidden;text-align: left;background-color: #f0f8ff;}#sk-container-id-3 div.sk-toggleable__content pre {margin: 0.2em;color: black;border-radius: 0.25em;background-color: #f0f8ff;}#sk-container-id-3 input.sk-toggleable__control:checked~div.sk-toggleable__content {max-height: 200px;max-width: 100%;overflow: auto;}#sk-container-id-3 input.sk-toggleable__control:checked~label.sk-toggleable__label-arrow:before {content: \"▾\";}#sk-container-id-3 div.sk-estimator input.sk-toggleable__control:checked~label.sk-toggleable__label {background-color: #d4ebff;}#sk-container-id-3 div.sk-label input.sk-toggleable__control:checked~label.sk-toggleable__label {background-color: #d4ebff;}#sk-container-id-3 input.sk-hidden--visually {border: 0;clip: rect(1px 1px 1px 1px);clip: rect(1px, 1px, 1px, 1px);height: 1px;margin: -1px;overflow: hidden;padding: 0;position: absolute;width: 1px;}#sk-container-id-3 div.sk-estimator {font-family: monospace;background-color: #f0f8ff;border: 1px dotted black;border-radius: 0.25em;box-sizing: border-box;margin-bottom: 0.5em;}#sk-container-id-3 div.sk-estimator:hover {background-color: #d4ebff;}#sk-container-id-3 div.sk-parallel-item::after {content: \"\";width: 100%;border-bottom: 1px solid gray;flex-grow: 1;}#sk-container-id-3 div.sk-label:hover label.sk-toggleable__label {background-color: #d4ebff;}#sk-container-id-3 div.sk-serial::before {content: \"\";position: absolute;border-left: 1px solid gray;box-sizing: border-box;top: 0;bottom: 0;left: 50%;z-index: 0;}#sk-container-id-3 div.sk-serial {display: flex;flex-direction: column;align-items: center;background-color: white;padding-right: 0.2em;padding-left: 0.2em;position: relative;}#sk-container-id-3 div.sk-item {position: relative;z-index: 1;}#sk-container-id-3 div.sk-parallel {display: flex;align-items: stretch;justify-content: center;background-color: white;position: relative;}#sk-container-id-3 div.sk-item::before, #sk-container-id-3 div.sk-parallel-item::before {content: \"\";position: absolute;border-left: 1px solid gray;box-sizing: border-box;top: 0;bottom: 0;left: 50%;z-index: -1;}#sk-container-id-3 div.sk-parallel-item {display: flex;flex-direction: column;z-index: 1;position: relative;background-color: white;}#sk-container-id-3 div.sk-parallel-item:first-child::after {align-self: flex-end;width: 50%;}#sk-container-id-3 div.sk-parallel-item:last-child::after {align-self: flex-start;width: 50%;}#sk-container-id-3 div.sk-parallel-item:only-child::after {width: 0;}#sk-container-id-3 div.sk-dashed-wrapped {border: 1px dashed gray;margin: 0 0.4em 0.5em 0.4em;box-sizing: border-box;padding-bottom: 0.4em;background-color: white;}#sk-container-id-3 div.sk-label label {font-family: monospace;font-weight: bold;display: inline-block;line-height: 1.2em;}#sk-container-id-3 div.sk-label-container {text-align: center;}#sk-container-id-3 div.sk-container {/* jupyter's `normalize.less` sets `[hidden] { display: none; }` but bootstrap.min.css set `[hidden] { display: none !important; }` so we also need the `!important` here to be able to override the default hidden behavior on the sphinx rendered scikit-learn.org. See: https://github.com/scikit-learn/scikit-learn/issues/21755 */display: inline-block !important;position: relative;}#sk-container-id-3 div.sk-text-repr-fallback {display: none;}</style><div id=\"sk-container-id-3\" class=\"sk-top-container\"><div class=\"sk-text-repr-fallback\"><pre>RandomForestRegressor(max_depth=10, n_estimators=400, random_state=37)</pre><b>In a Jupyter environment, please rerun this cell to show the HTML representation or trust the notebook. <br />On GitHub, the HTML representation is unable to render, please try loading this page with nbviewer.org.</b></div><div class=\"sk-container\" hidden><div class=\"sk-item\"><div class=\"sk-estimator sk-toggleable\"><input class=\"sk-toggleable__control sk-hidden--visually\" id=\"sk-estimator-id-3\" type=\"checkbox\" checked><label for=\"sk-estimator-id-3\" class=\"sk-toggleable__label sk-toggleable__label-arrow\">RandomForestRegressor</label><div class=\"sk-toggleable__content\"><pre>RandomForestRegressor(max_depth=10, n_estimators=400, random_state=37)</pre></div></div></div></div></div>"
      ],
      "text/plain": [
       "RandomForestRegressor(max_depth=10, n_estimators=400, random_state=37)"
      ]
     },
     "execution_count": 41,
     "metadata": {},
     "output_type": "execute_result"
    }
   ],
   "source": [
    "rf_model_400 = RandomForestRegressor(n_estimators=400, max_depth=10, random_state=37)\n",
    "rf_model_400.fit(x_train, y_train)"
   ]
  },
  {
   "cell_type": "code",
   "execution_count": 42,
   "id": "fa265e16",
   "metadata": {},
   "outputs": [
    {
     "data": {
      "text/plain": [
       "array([0.03617437, 0.03896361, 0.05350122, ..., 0.0366347 , 0.01971041,\n",
       "       0.0125504 ])"
      ]
     },
     "execution_count": 42,
     "metadata": {},
     "output_type": "execute_result"
    }
   ],
   "source": [
    "rf_200_preds = rf_model_200.predict(x_test)\n",
    "rf_200_preds"
   ]
  },
  {
   "cell_type": "code",
   "execution_count": 43,
   "id": "74d5433a",
   "metadata": {
    "scrolled": true
   },
   "outputs": [
    {
     "name": "stdout",
     "output_type": "stream",
     "text": [
      "Mean Squared Error: 0.004236914846775873\n",
      "Mean Absolute Error: 0.0396247893670327\n",
      "Root Mean Squared Error: 0.06509158814144785\n"
     ]
    }
   ],
   "source": [
    "print('Mean Squared Error:', metrics.mean_squared_error(y_test, rf_200_preds))\n",
    "print('Mean Absolute Error:', metrics.mean_absolute_error(y_test, rf_200_preds))\n",
    "print('Root Mean Squared Error:',np.sqrt(metrics.mean_squared_error(y_test, rf_200_preds)))"
   ]
  },
  {
   "cell_type": "code",
   "execution_count": 44,
   "id": "6dabf9a1",
   "metadata": {},
   "outputs": [
    {
     "data": {
      "image/png": "[encoded data removed]",
      "text/plain": [
       "<Figure size 640x480 with 1 Axes>"
      ]
     },
     "metadata": {},
     "output_type": "display_data"
    }
   ],
   "source": [
    "mse_rf_200 = metrics.mean_squared_error(y_test, rf_200_preds)\n",
    "mae_rf_200 = metrics.mean_absolute_error(y_test, rf_200_preds)\n",
    "rmse_rf_200 = np.sqrt(metrics.mean_squared_error(y_test, rf_200_preds))\n",
    "\n",
    "# Labels for the x-axis\n",
    "errors = ['MSE', 'MAE', 'RMSE']\n",
    "\n",
    "# Values for the y-axis\n",
    "error_values = [mse_rf_200, mae_rf_200, rmse_rf_200]\n",
    "\n",
    "# Create the bar chart\n",
    "plt.bar(errors, error_values)\n",
    "for i, value in enumerate(error_values):\n",
    "    plt.text(i, value, f'{value:.6f}', ha='center', va='bottom')\n",
    "\n",
    "# Add labels and title\n",
    "plt.xlabel('Error Metrics')\n",
    "plt.ylabel('Error Values')\n",
    "plt.title('Comparison of MSE, MAE, and RMSE (N-Tree 200)')\n",
    "plt.show()"
   ]
  },
  {
   "cell_type": "code",
   "execution_count": 45,
   "id": "0e6c9e7b",
   "metadata": {},
   "outputs": [
    {
     "data": {
      "text/plain": [
       "array([0.03685707, 0.04436511, 0.0535801 , ..., 0.03524801, 0.01793336,\n",
       "       0.01238989])"
      ]
     },
     "execution_count": 45,
     "metadata": {},
     "output_type": "execute_result"
    }
   ],
   "source": [
    "rf_400_preds = rf_model_400.predict(x_test)\n",
    "rf_400_preds"
   ]
  },
  {
   "cell_type": "code",
   "execution_count": 75,
   "id": "2d55aeb1",
   "metadata": {
    "scrolled": true
   },
   "outputs": [
    {
     "name": "stdout",
     "output_type": "stream",
     "text": [
      "Mean Squared Error (RF_400): 0.004224518358123325\n"
     ]
    }
   ],
   "source": [
    "print('Mean Squared Error (RF_400):', metrics.mean_squared_error(y_test, rf_400_preds))\n"
   ]
  },
  {
   "cell_type": "code",
   "execution_count": 47,
   "id": "17df98b1",
   "metadata": {},
   "outputs": [
    {
     "data": {
      "image/png": "[encoded data removed]",
      "text/plain": [
       "<Figure size 640x480 with 1 Axes>"
      ]
     },
     "metadata": {},
     "output_type": "display_data"
    }
   ],
   "source": [
    "mse_rf_400 = metrics.mean_squared_error(y_test, rf_400_preds)\n",
    "mae_rf_400 = metrics.mean_absolute_error(y_test, rf_400_preds)\n",
    "rmse_rf_400 = np.sqrt(metrics.mean_squared_error(y_test, rf_400_preds))\n",
    "\n",
    "# Labels for the x-axis\n",
    "errors = ['MSE', 'MAE', 'RMSE']\n",
    "\n",
    "# Values for the y-axis\n",
    "error_values = [mse_rf_400, mae_rf_400, rmse_rf_400]\n",
    "\n",
    "# Create the bar chart\n",
    "plt.bar(errors, error_values)\n",
    "for i, value in enumerate(error_values):\n",
    "    plt.text(i, value, f'{value:.6f}', ha='center', va='bottom')\n",
    "# Add labels and title\n",
    "plt.xlabel('Error Metrics')\n",
    "plt.ylabel('Error Values')\n",
    "plt.title('Comparison of MSE, MAE, and RMSE (N-Tree 400)')\n",
    "plt.show()"
   ]
  },
  {
   "cell_type": "code",
   "execution_count": 48,
   "id": "018814b4",
   "metadata": {},
   "outputs": [
    {
     "data": {
      "image/png": "[encoded data removed]",
      "text/plain": [
       "<Figure size 640x480 with 1 Axes>"
      ]
     },
     "metadata": {},
     "output_type": "display_data"
    }
   ],
   "source": [
    "mse_rf_400 = metrics.mean_squared_error(y_test, rf_400_preds)\n",
    "mse_rf_100 = metrics.mean_squared_error(y_test, rf_100_preds)\n",
    "mse_rf_200 = metrics.mean_squared_error(y_test, rf_200_preds)\n",
    "\n",
    "# Labels for the x-axis\n",
    "errors = ['MSE', 'MAE', 'RMSE']\n",
    "\n",
    "# Values for the y-axis\n",
    "error_values = [mse_rf_400, mse_rf_100, mse_rf_200]\n",
    "\n",
    "colors = ['blue', 'green', 'orange']\n",
    "\n",
    "# Create the bar chart\n",
    "plt.bar(errors, error_values, color=colors)\n",
    "for i, value in enumerate(error_values):\n",
    "    plt.text(i, value, f'{value:.6f}', ha='center', va='bottom')\n",
    "# Add labels and title\n",
    "plt.xlabel('Error Metrics')\n",
    "plt.ylabel('Error Values')\n",
    "plt.title('Comparison of MSE, MAE, and RMSE (N-Tree 400)')\n",
    "plt.show()"
   ]
  },
  {
   "cell_type": "code",
   "execution_count": 49,
   "id": "0c1c62af",
   "metadata": {},
   "outputs": [
    {
     "data": {
      "text/html": [
       "<style>#sk-container-id-4 {color: black;}#sk-container-id-4 pre{padding: 0;}#sk-container-id-4 div.sk-toggleable {background-color: white;}#sk-container-id-4 label.sk-toggleable__label {cursor: pointer;display: block;width: 100%;margin-bottom: 0;padding: 0.3em;box-sizing: border-box;text-align: center;}#sk-container-id-4 label.sk-toggleable__label-arrow:before {content: \"▸\";float: left;margin-right: 0.25em;color: #696969;}#sk-container-id-4 label.sk-toggleable__label-arrow:hover:before {color: black;}#sk-container-id-4 div.sk-estimator:hover label.sk-toggleable__label-arrow:before {color: black;}#sk-container-id-4 div.sk-toggleable__content {max-height: 0;max-width: 0;overflow: hidden;text-align: left;background-color: #f0f8ff;}#sk-container-id-4 div.sk-toggleable__content pre {margin: 0.2em;color: black;border-radius: 0.25em;background-color: #f0f8ff;}#sk-container-id-4 input.sk-toggleable__control:checked~div.sk-toggleable__content {max-height: 200px;max-width: 100%;overflow: auto;}#sk-container-id-4 input.sk-toggleable__control:checked~label.sk-toggleable__label-arrow:before {content: \"▾\";}#sk-container-id-4 div.sk-estimator input.sk-toggleable__control:checked~label.sk-toggleable__label {background-color: #d4ebff;}#sk-container-id-4 div.sk-label input.sk-toggleable__control:checked~label.sk-toggleable__label {background-color: #d4ebff;}#sk-container-id-4 input.sk-hidden--visually {border: 0;clip: rect(1px 1px 1px 1px);clip: rect(1px, 1px, 1px, 1px);height: 1px;margin: -1px;overflow: hidden;padding: 0;position: absolute;width: 1px;}#sk-container-id-4 div.sk-estimator {font-family: monospace;background-color: #f0f8ff;border: 1px dotted black;border-radius: 0.25em;box-sizing: border-box;margin-bottom: 0.5em;}#sk-container-id-4 div.sk-estimator:hover {background-color: #d4ebff;}#sk-container-id-4 div.sk-parallel-item::after {content: \"\";width: 100%;border-bottom: 1px solid gray;flex-grow: 1;}#sk-container-id-4 div.sk-label:hover label.sk-toggleable__label {background-color: #d4ebff;}#sk-container-id-4 div.sk-serial::before {content: \"\";position: absolute;border-left: 1px solid gray;box-sizing: border-box;top: 0;bottom: 0;left: 50%;z-index: 0;}#sk-container-id-4 div.sk-serial {display: flex;flex-direction: column;align-items: center;background-color: white;padding-right: 0.2em;padding-left: 0.2em;position: relative;}#sk-container-id-4 div.sk-item {position: relative;z-index: 1;}#sk-container-id-4 div.sk-parallel {display: flex;align-items: stretch;justify-content: center;background-color: white;position: relative;}#sk-container-id-4 div.sk-item::before, #sk-container-id-4 div.sk-parallel-item::before {content: \"\";position: absolute;border-left: 1px solid gray;box-sizing: border-box;top: 0;bottom: 0;left: 50%;z-index: -1;}#sk-container-id-4 div.sk-parallel-item {display: flex;flex-direction: column;z-index: 1;position: relative;background-color: white;}#sk-container-id-4 div.sk-parallel-item:first-child::after {align-self: flex-end;width: 50%;}#sk-container-id-4 div.sk-parallel-item:last-child::after {align-self: flex-start;width: 50%;}#sk-container-id-4 div.sk-parallel-item:only-child::after {width: 0;}#sk-container-id-4 div.sk-dashed-wrapped {border: 1px dashed gray;margin: 0 0.4em 0.5em 0.4em;box-sizing: border-box;padding-bottom: 0.4em;background-color: white;}#sk-container-id-4 div.sk-label label {font-family: monospace;font-weight: bold;display: inline-block;line-height: 1.2em;}#sk-container-id-4 div.sk-label-container {text-align: center;}#sk-container-id-4 div.sk-container {/* jupyter's `normalize.less` sets `[hidden] { display: none; }` but bootstrap.min.css set `[hidden] { display: none !important; }` so we also need the `!important` here to be able to override the default hidden behavior on the sphinx rendered scikit-learn.org. See: https://github.com/scikit-learn/scikit-learn/issues/21755 */display: inline-block !important;position: relative;}#sk-container-id-4 div.sk-text-repr-fallback {display: none;}</style><div id=\"sk-container-id-4\" class=\"sk-top-container\"><div class=\"sk-text-repr-fallback\"><pre>XGBRegressor(base_score=None, booster=None, callbacks=None,\n",
       "             colsample_bylevel=None, colsample_bynode=None,\n",
       "             colsample_bytree=None, early_stopping_rounds=None,\n",
       "             enable_categorical=False, eval_metric=None, feature_types=None,\n",
       "             gamma=None, gpu_id=None, grow_policy=None, importance_type=None,\n",
       "             interaction_constraints=None, learning_rate=0.1, max_bin=None,\n",
       "             max_cat_threshold=None, max_cat_to_onehot=None,\n",
       "             max_delta_step=None, max_depth=None, max_leaves=None,\n",
       "             min_child_weight=None, missing=nan, monotone_constraints=None,\n",
       "             n_estimators=1000, n_jobs=None, num_parallel_tree=None,\n",
       "             predictor=None, random_state=42, ...)</pre><b>In a Jupyter environment, please rerun this cell to show the HTML representation or trust the notebook. <br />On GitHub, the HTML representation is unable to render, please try loading this page with nbviewer.org.</b></div><div class=\"sk-container\" hidden><div class=\"sk-item\"><div class=\"sk-estimator sk-toggleable\"><input class=\"sk-toggleable__control sk-hidden--visually\" id=\"sk-estimator-id-4\" type=\"checkbox\" checked><label for=\"sk-estimator-id-4\" class=\"sk-toggleable__label sk-toggleable__label-arrow\">XGBRegressor</label><div class=\"sk-toggleable__content\"><pre>XGBRegressor(base_score=None, booster=None, callbacks=None,\n",
       "             colsample_bylevel=None, colsample_bynode=None,\n",
       "             colsample_bytree=None, early_stopping_rounds=None,\n",
       "             enable_categorical=False, eval_metric=None, feature_types=None,\n",
       "             gamma=None, gpu_id=None, grow_policy=None, importance_type=None,\n",
       "             interaction_constraints=None, learning_rate=0.1, max_bin=None,\n",
       "             max_cat_threshold=None, max_cat_to_onehot=None,\n",
       "             max_delta_step=None, max_depth=None, max_leaves=None,\n",
       "             min_child_weight=None, missing=nan, monotone_constraints=None,\n",
       "             n_estimators=1000, n_jobs=None, num_parallel_tree=None,\n",
       "             predictor=None, random_state=42, ...)</pre></div></div></div></div></div>"
      ],
      "text/plain": [
       "XGBRegressor(base_score=None, booster=None, callbacks=None,\n",
       "             colsample_bylevel=None, colsample_bynode=None,\n",
       "             colsample_bytree=None, early_stopping_rounds=None,\n",
       "             enable_categorical=False, eval_metric=None, feature_types=None,\n",
       "             gamma=None, gpu_id=None, grow_policy=None, importance_type=None,\n",
       "             interaction_constraints=None, learning_rate=0.1, max_bin=None,\n",
       "             max_cat_threshold=None, max_cat_to_onehot=None,\n",
       "             max_delta_step=None, max_depth=None, max_leaves=None,\n",
       "             min_child_weight=None, missing=nan, monotone_constraints=None,\n",
       "             n_estimators=1000, n_jobs=None, num_parallel_tree=None,\n",
       "             predictor=None, random_state=42, ...)"
      ]
     },
     "execution_count": 49,
     "metadata": {},
     "output_type": "execute_result"
    }
   ],
   "source": [
    "xgb_Regressor_1000 = xgb.XGBRegressor(n_estimators=1000, learning_rate=0.1, random_state=42)\n",
    "xgb_Regressor_1000.fit(x_train, y_train)\n"
   ]
  },
  {
   "cell_type": "code",
   "execution_count": 50,
   "id": "cca53155",
   "metadata": {},
   "outputs": [
    {
     "data": {
      "text/plain": [
       "array([ 0.01857904,  0.00765452,  0.04837636, ...,  0.05889577,\n",
       "       -0.00318043,  0.0039712 ], dtype=float32)"
      ]
     },
     "execution_count": 50,
     "metadata": {},
     "output_type": "execute_result"
    }
   ],
   "source": [
    "xgb_prediction_1000 = xgb_Regressor_1000.predict(x_test)\n",
    "xgb_prediction_1000"
   ]
  },
  {
   "cell_type": "code",
   "execution_count": 51,
   "id": "f11f0ed9",
   "metadata": {
    "scrolled": false
   },
   "outputs": [
    {
     "name": "stdout",
     "output_type": "stream",
     "text": [
      "Mean Squared Error: 0.004619277732561534\n",
      "Mean Absolute Error: 0.041799591352550236\n",
      "Root Mean Squared Error: 0.06796526857565954\n"
     ]
    }
   ],
   "source": [
    "print('Mean Squared Error:', metrics.mean_squared_error(y_test, xgb_prediction_1000))\n",
    "print('Mean Absolute Error:', metrics.mean_absolute_error(y_test, xgb_prediction_1000))\n",
    "print('Root Mean Squared Error:',np.sqrt(metrics.mean_squared_error(y_test, xgb_prediction_1000)))"
   ]
  },
  {
   "cell_type": "code",
   "execution_count": 52,
   "id": "ab7484e9",
   "metadata": {},
   "outputs": [
    {
     "data": {
      "image/png": "[encoded data removed]",
      "text/plain": [
       "<Figure size 640x480 with 1 Axes>"
      ]
     },
     "metadata": {},
     "output_type": "display_data"
    }
   ],
   "source": [
    "mse_xgb_1000 = metrics.mean_squared_error(y_test, xgb_prediction_1000)\n",
    "mae_xgb_1000 = metrics.mean_absolute_error(y_test, xgb_prediction_1000)\n",
    "rmse_xgb_1000 = np.sqrt(metrics.mean_squared_error(y_test, xgb_prediction_1000))\n",
    "\n",
    "# Labels for the x-axis\n",
    "errors = ['MSE', 'MAE', 'RMSE']\n",
    "\n",
    "# Values for the y-axis\n",
    "error_values = [mse_xgb_1000, mae_xgb_1000, rmse_xgb_1000]\n",
    "\n",
    "colors = ['green']\n",
    "\n",
    "# Create the bar chart\n",
    "plt.bar(errors, error_values, color = colors)\n",
    "for i, value in enumerate(error_values):\n",
    "    plt.text(i, value, f'{value:.6f}', ha='center', va='bottom')\n",
    "# Add labels and title\n",
    "plt.xlabel('Error Metrics')\n",
    "plt.ylabel('Error Values')\n",
    "plt.title('Comparison of MSE, MAE, and RMSE (XGBoost 1000)')\n",
    "plt.show()"
   ]
  },
  {
   "cell_type": "code",
   "execution_count": 53,
   "id": "d3397152",
   "metadata": {},
   "outputs": [
    {
     "data": {
      "text/html": [
       "<style>#sk-container-id-5 {color: black;}#sk-container-id-5 pre{padding: 0;}#sk-container-id-5 div.sk-toggleable {background-color: white;}#sk-container-id-5 label.sk-toggleable__label {cursor: pointer;display: block;width: 100%;margin-bottom: 0;padding: 0.3em;box-sizing: border-box;text-align: center;}#sk-container-id-5 label.sk-toggleable__label-arrow:before {content: \"▸\";float: left;margin-right: 0.25em;color: #696969;}#sk-container-id-5 label.sk-toggleable__label-arrow:hover:before {color: black;}#sk-container-id-5 div.sk-estimator:hover label.sk-toggleable__label-arrow:before {color: black;}#sk-container-id-5 div.sk-toggleable__content {max-height: 0;max-width: 0;overflow: hidden;text-align: left;background-color: #f0f8ff;}#sk-container-id-5 div.sk-toggleable__content pre {margin: 0.2em;color: black;border-radius: 0.25em;background-color: #f0f8ff;}#sk-container-id-5 input.sk-toggleable__control:checked~div.sk-toggleable__content {max-height: 200px;max-width: 100%;overflow: auto;}#sk-container-id-5 input.sk-toggleable__control:checked~label.sk-toggleable__label-arrow:before {content: \"▾\";}#sk-container-id-5 div.sk-estimator input.sk-toggleable__control:checked~label.sk-toggleable__label {background-color: #d4ebff;}#sk-container-id-5 div.sk-label input.sk-toggleable__control:checked~label.sk-toggleable__label {background-color: #d4ebff;}#sk-container-id-5 input.sk-hidden--visually {border: 0;clip: rect(1px 1px 1px 1px);clip: rect(1px, 1px, 1px, 1px);height: 1px;margin: -1px;overflow: hidden;padding: 0;position: absolute;width: 1px;}#sk-container-id-5 div.sk-estimator {font-family: monospace;background-color: #f0f8ff;border: 1px dotted black;border-radius: 0.25em;box-sizing: border-box;margin-bottom: 0.5em;}#sk-container-id-5 div.sk-estimator:hover {background-color: #d4ebff;}#sk-container-id-5 div.sk-parallel-item::after {content: \"\";width: 100%;border-bottom: 1px solid gray;flex-grow: 1;}#sk-container-id-5 div.sk-label:hover label.sk-toggleable__label {background-color: #d4ebff;}#sk-container-id-5 div.sk-serial::before {content: \"\";position: absolute;border-left: 1px solid gray;box-sizing: border-box;top: 0;bottom: 0;left: 50%;z-index: 0;}#sk-container-id-5 div.sk-serial {display: flex;flex-direction: column;align-items: center;background-color: white;padding-right: 0.2em;padding-left: 0.2em;position: relative;}#sk-container-id-5 div.sk-item {position: relative;z-index: 1;}#sk-container-id-5 div.sk-parallel {display: flex;align-items: stretch;justify-content: center;background-color: white;position: relative;}#sk-container-id-5 div.sk-item::before, #sk-container-id-5 div.sk-parallel-item::before {content: \"\";position: absolute;border-left: 1px solid gray;box-sizing: border-box;top: 0;bottom: 0;left: 50%;z-index: -1;}#sk-container-id-5 div.sk-parallel-item {display: flex;flex-direction: column;z-index: 1;position: relative;background-color: white;}#sk-container-id-5 div.sk-parallel-item:first-child::after {align-self: flex-end;width: 50%;}#sk-container-id-5 div.sk-parallel-item:last-child::after {align-self: flex-start;width: 50%;}#sk-container-id-5 div.sk-parallel-item:only-child::after {width: 0;}#sk-container-id-5 div.sk-dashed-wrapped {border: 1px dashed gray;margin: 0 0.4em 0.5em 0.4em;box-sizing: border-box;padding-bottom: 0.4em;background-color: white;}#sk-container-id-5 div.sk-label label {font-family: monospace;font-weight: bold;display: inline-block;line-height: 1.2em;}#sk-container-id-5 div.sk-label-container {text-align: center;}#sk-container-id-5 div.sk-container {/* jupyter's `normalize.less` sets `[hidden] { display: none; }` but bootstrap.min.css set `[hidden] { display: none !important; }` so we also need the `!important` here to be able to override the default hidden behavior on the sphinx rendered scikit-learn.org. See: https://github.com/scikit-learn/scikit-learn/issues/21755 */display: inline-block !important;position: relative;}#sk-container-id-5 div.sk-text-repr-fallback {display: none;}</style><div id=\"sk-container-id-5\" class=\"sk-top-container\"><div class=\"sk-text-repr-fallback\"><pre>XGBRegressor(base_score=None, booster=None, callbacks=None,\n",
       "             colsample_bylevel=None, colsample_bynode=None,\n",
       "             colsample_bytree=None, early_stopping_rounds=None,\n",
       "             enable_categorical=False, eval_metric=None, feature_types=None,\n",
       "             gamma=None, gpu_id=None, grow_policy=None, importance_type=None,\n",
       "             interaction_constraints=None, learning_rate=0.1, max_bin=None,\n",
       "             max_cat_threshold=None, max_cat_to_onehot=None,\n",
       "             max_delta_step=None, max_depth=None, max_leaves=None,\n",
       "             min_child_weight=None, missing=nan, monotone_constraints=None,\n",
       "             n_estimators=500, n_jobs=None, num_parallel_tree=None,\n",
       "             predictor=None, random_state=42, ...)</pre><b>In a Jupyter environment, please rerun this cell to show the HTML representation or trust the notebook. <br />On GitHub, the HTML representation is unable to render, please try loading this page with nbviewer.org.</b></div><div class=\"sk-container\" hidden><div class=\"sk-item\"><div class=\"sk-estimator sk-toggleable\"><input class=\"sk-toggleable__control sk-hidden--visually\" id=\"sk-estimator-id-5\" type=\"checkbox\" checked><label for=\"sk-estimator-id-5\" class=\"sk-toggleable__label sk-toggleable__label-arrow\">XGBRegressor</label><div class=\"sk-toggleable__content\"><pre>XGBRegressor(base_score=None, booster=None, callbacks=None,\n",
       "             colsample_bylevel=None, colsample_bynode=None,\n",
       "             colsample_bytree=None, early_stopping_rounds=None,\n",
       "             enable_categorical=False, eval_metric=None, feature_types=None,\n",
       "             gamma=None, gpu_id=None, grow_policy=None, importance_type=None,\n",
       "             interaction_constraints=None, learning_rate=0.1, max_bin=None,\n",
       "             max_cat_threshold=None, max_cat_to_onehot=None,\n",
       "             max_delta_step=None, max_depth=None, max_leaves=None,\n",
       "             min_child_weight=None, missing=nan, monotone_constraints=None,\n",
       "             n_estimators=500, n_jobs=None, num_parallel_tree=None,\n",
       "             predictor=None, random_state=42, ...)</pre></div></div></div></div></div>"
      ],
      "text/plain": [
       "XGBRegressor(base_score=None, booster=None, callbacks=None,\n",
       "             colsample_bylevel=None, colsample_bynode=None,\n",
       "             colsample_bytree=None, early_stopping_rounds=None,\n",
       "             enable_categorical=False, eval_metric=None, feature_types=None,\n",
       "             gamma=None, gpu_id=None, grow_policy=None, importance_type=None,\n",
       "             interaction_constraints=None, learning_rate=0.1, max_bin=None,\n",
       "             max_cat_threshold=None, max_cat_to_onehot=None,\n",
       "             max_delta_step=None, max_depth=None, max_leaves=None,\n",
       "             min_child_weight=None, missing=nan, monotone_constraints=None,\n",
       "             n_estimators=500, n_jobs=None, num_parallel_tree=None,\n",
       "             predictor=None, random_state=42, ...)"
      ]
     },
     "execution_count": 53,
     "metadata": {},
     "output_type": "execute_result"
    }
   ],
   "source": [
    "xgb_Regressor_500 = xgb.XGBRegressor(n_estimators=500, learning_rate=0.1, random_state=42)\n",
    "xgb_Regressor_500.fit(x_train, y_train)"
   ]
  },
  {
   "cell_type": "code",
   "execution_count": 54,
   "id": "d85c5dbc",
   "metadata": {},
   "outputs": [
    {
     "data": {
      "text/plain": [
       "array([ 0.02145129,  0.00984294,  0.05168699, ...,  0.05039376,\n",
       "       -0.0005533 ,  0.00602067], dtype=float32)"
      ]
     },
     "execution_count": 54,
     "metadata": {},
     "output_type": "execute_result"
    }
   ],
   "source": [
    "xgb_prediction_500 = xgb_Regressor_500.predict(x_test)\n",
    "xgb_prediction_500"
   ]
  },
  {
   "cell_type": "code",
   "execution_count": 55,
   "id": "7a5f5bfe",
   "metadata": {},
   "outputs": [
    {
     "name": "stdout",
     "output_type": "stream",
     "text": [
      "Mean Squared Error: 0.00442790554162527\n",
      "Mean Absolute Error: 0.04048652066285296\n",
      "Root Mean Squared Error: 0.06654250928260273\n"
     ]
    }
   ],
   "source": [
    "print('Mean Squared Error:', metrics.mean_squared_error(y_test, xgb_prediction_500))\n",
    "print('Mean Absolute Error:', metrics.mean_absolute_error(y_test, xgb_prediction_500))\n",
    "print('Root Mean Squared Error:',np.sqrt(metrics.mean_squared_error(y_test, xgb_prediction_500)))"
   ]
  },
  {
   "cell_type": "code",
   "execution_count": 56,
   "id": "ffd7c15d",
   "metadata": {},
   "outputs": [
    {
     "data": {
      "image/png": "[encoded data removed]",
      "text/plain": [
       "<Figure size 640x480 with 1 Axes>"
      ]
     },
     "metadata": {},
     "output_type": "display_data"
    }
   ],
   "source": [
    "mse_xgb_500 = metrics.mean_squared_error(y_test, xgb_prediction_500)\n",
    "mae_xgb_500 = metrics.mean_absolute_error(y_test, xgb_prediction_500)\n",
    "rmse_xgb_500 = np.sqrt(metrics.mean_squared_error(y_test, xgb_prediction_500))\n",
    "\n",
    "# Labels for the x-axis\n",
    "errors = ['MSE', 'MAE', 'RMSE']\n",
    "\n",
    "# Values for the y-axis\n",
    "error_values = [mse_xgb_500, mae_xgb_500, rmse_xgb_500]\n",
    "\n",
    "colors = ['green']\n",
    "\n",
    "# Create the bar chart\n",
    "plt.bar(errors, error_values, color = colors)\n",
    "for i, value in enumerate(error_values):\n",
    "    plt.text(i, value, f'{value:.6f}', ha='center', va='bottom')\n",
    "\n",
    "# Add labels and title\n",
    "plt.xlabel('Error Metrics')\n",
    "plt.ylabel('Error Values')\n",
    "plt.title('Comparison of MSE, MAE, and RMSE (XGBoost 500)')\n",
    "plt.show()"
   ]
  },
  {
   "cell_type": "code",
   "execution_count": 57,
   "id": "084995b7",
   "metadata": {},
   "outputs": [
    {
     "data": {
      "text/html": [
       "<style>#sk-container-id-6 {color: black;}#sk-container-id-6 pre{padding: 0;}#sk-container-id-6 div.sk-toggleable {background-color: white;}#sk-container-id-6 label.sk-toggleable__label {cursor: pointer;display: block;width: 100%;margin-bottom: 0;padding: 0.3em;box-sizing: border-box;text-align: center;}#sk-container-id-6 label.sk-toggleable__label-arrow:before {content: \"▸\";float: left;margin-right: 0.25em;color: #696969;}#sk-container-id-6 label.sk-toggleable__label-arrow:hover:before {color: black;}#sk-container-id-6 div.sk-estimator:hover label.sk-toggleable__label-arrow:before {color: black;}#sk-container-id-6 div.sk-toggleable__content {max-height: 0;max-width: 0;overflow: hidden;text-align: left;background-color: #f0f8ff;}#sk-container-id-6 div.sk-toggleable__content pre {margin: 0.2em;color: black;border-radius: 0.25em;background-color: #f0f8ff;}#sk-container-id-6 input.sk-toggleable__control:checked~div.sk-toggleable__content {max-height: 200px;max-width: 100%;overflow: auto;}#sk-container-id-6 input.sk-toggleable__control:checked~label.sk-toggleable__label-arrow:before {content: \"▾\";}#sk-container-id-6 div.sk-estimator input.sk-toggleable__control:checked~label.sk-toggleable__label {background-color: #d4ebff;}#sk-container-id-6 div.sk-label input.sk-toggleable__control:checked~label.sk-toggleable__label {background-color: #d4ebff;}#sk-container-id-6 input.sk-hidden--visually {border: 0;clip: rect(1px 1px 1px 1px);clip: rect(1px, 1px, 1px, 1px);height: 1px;margin: -1px;overflow: hidden;padding: 0;position: absolute;width: 1px;}#sk-container-id-6 div.sk-estimator {font-family: monospace;background-color: #f0f8ff;border: 1px dotted black;border-radius: 0.25em;box-sizing: border-box;margin-bottom: 0.5em;}#sk-container-id-6 div.sk-estimator:hover {background-color: #d4ebff;}#sk-container-id-6 div.sk-parallel-item::after {content: \"\";width: 100%;border-bottom: 1px solid gray;flex-grow: 1;}#sk-container-id-6 div.sk-label:hover label.sk-toggleable__label {background-color: #d4ebff;}#sk-container-id-6 div.sk-serial::before {content: \"\";position: absolute;border-left: 1px solid gray;box-sizing: border-box;top: 0;bottom: 0;left: 50%;z-index: 0;}#sk-container-id-6 div.sk-serial {display: flex;flex-direction: column;align-items: center;background-color: white;padding-right: 0.2em;padding-left: 0.2em;position: relative;}#sk-container-id-6 div.sk-item {position: relative;z-index: 1;}#sk-container-id-6 div.sk-parallel {display: flex;align-items: stretch;justify-content: center;background-color: white;position: relative;}#sk-container-id-6 div.sk-item::before, #sk-container-id-6 div.sk-parallel-item::before {content: \"\";position: absolute;border-left: 1px solid gray;box-sizing: border-box;top: 0;bottom: 0;left: 50%;z-index: -1;}#sk-container-id-6 div.sk-parallel-item {display: flex;flex-direction: column;z-index: 1;position: relative;background-color: white;}#sk-container-id-6 div.sk-parallel-item:first-child::after {align-self: flex-end;width: 50%;}#sk-container-id-6 div.sk-parallel-item:last-child::after {align-self: flex-start;width: 50%;}#sk-container-id-6 div.sk-parallel-item:only-child::after {width: 0;}#sk-container-id-6 div.sk-dashed-wrapped {border: 1px dashed gray;margin: 0 0.4em 0.5em 0.4em;box-sizing: border-box;padding-bottom: 0.4em;background-color: white;}#sk-container-id-6 div.sk-label label {font-family: monospace;font-weight: bold;display: inline-block;line-height: 1.2em;}#sk-container-id-6 div.sk-label-container {text-align: center;}#sk-container-id-6 div.sk-container {/* jupyter's `normalize.less` sets `[hidden] { display: none; }` but bootstrap.min.css set `[hidden] { display: none !important; }` so we also need the `!important` here to be able to override the default hidden behavior on the sphinx rendered scikit-learn.org. See: https://github.com/scikit-learn/scikit-learn/issues/21755 */display: inline-block !important;position: relative;}#sk-container-id-6 div.sk-text-repr-fallback {display: none;}</style><div id=\"sk-container-id-6\" class=\"sk-top-container\"><div class=\"sk-text-repr-fallback\"><pre>XGBRegressor(base_score=None, booster=None, callbacks=None,\n",
       "             colsample_bylevel=None, colsample_bynode=None,\n",
       "             colsample_bytree=None, early_stopping_rounds=None,\n",
       "             enable_categorical=False, eval_metric=None, feature_types=None,\n",
       "             gamma=None, gpu_id=None, grow_policy=None, importance_type=None,\n",
       "             interaction_constraints=None, learning_rate=0.1, max_bin=None,\n",
       "             max_cat_threshold=None, max_cat_to_onehot=None,\n",
       "             max_delta_step=None, max_depth=None, max_leaves=None,\n",
       "             min_child_weight=None, missing=nan, monotone_constraints=None,\n",
       "             n_estimators=300, n_jobs=None, num_parallel_tree=None,\n",
       "             predictor=None, random_state=42, ...)</pre><b>In a Jupyter environment, please rerun this cell to show the HTML representation or trust the notebook. <br />On GitHub, the HTML representation is unable to render, please try loading this page with nbviewer.org.</b></div><div class=\"sk-container\" hidden><div class=\"sk-item\"><div class=\"sk-estimator sk-toggleable\"><input class=\"sk-toggleable__control sk-hidden--visually\" id=\"sk-estimator-id-6\" type=\"checkbox\" checked><label for=\"sk-estimator-id-6\" class=\"sk-toggleable__label sk-toggleable__label-arrow\">XGBRegressor</label><div class=\"sk-toggleable__content\"><pre>XGBRegressor(base_score=None, booster=None, callbacks=None,\n",
       "             colsample_bylevel=None, colsample_bynode=None,\n",
       "             colsample_bytree=None, early_stopping_rounds=None,\n",
       "             enable_categorical=False, eval_metric=None, feature_types=None,\n",
       "             gamma=None, gpu_id=None, grow_policy=None, importance_type=None,\n",
       "             interaction_constraints=None, learning_rate=0.1, max_bin=None,\n",
       "             max_cat_threshold=None, max_cat_to_onehot=None,\n",
       "             max_delta_step=None, max_depth=None, max_leaves=None,\n",
       "             min_child_weight=None, missing=nan, monotone_constraints=None,\n",
       "             n_estimators=300, n_jobs=None, num_parallel_tree=None,\n",
       "             predictor=None, random_state=42, ...)</pre></div></div></div></div></div>"
      ],
      "text/plain": [
       "XGBRegressor(base_score=None, booster=None, callbacks=None,\n",
       "             colsample_bylevel=None, colsample_bynode=None,\n",
       "             colsample_bytree=None, early_stopping_rounds=None,\n",
       "             enable_categorical=False, eval_metric=None, feature_types=None,\n",
       "             gamma=None, gpu_id=None, grow_policy=None, importance_type=None,\n",
       "             interaction_constraints=None, learning_rate=0.1, max_bin=None,\n",
       "             max_cat_threshold=None, max_cat_to_onehot=None,\n",
       "             max_delta_step=None, max_depth=None, max_leaves=None,\n",
       "             min_child_weight=None, missing=nan, monotone_constraints=None,\n",
       "             n_estimators=300, n_jobs=None, num_parallel_tree=None,\n",
       "             predictor=None, random_state=42, ...)"
      ]
     },
     "execution_count": 57,
     "metadata": {},
     "output_type": "execute_result"
    }
   ],
   "source": [
    "xgb_Regressor_300 = xgb.XGBRegressor(n_estimators=300, learning_rate=0.1, random_state=42)\n",
    "xgb_Regressor_300.fit(x_train, y_train)"
   ]
  },
  {
   "cell_type": "code",
   "execution_count": 58,
   "id": "5eb14f97",
   "metadata": {},
   "outputs": [
    {
     "data": {
      "text/plain": [
       "array([0.02175626, 0.01802292, 0.05234977, ..., 0.05008535, 0.004095  ,\n",
       "       0.00479055], dtype=float32)"
      ]
     },
     "execution_count": 58,
     "metadata": {},
     "output_type": "execute_result"
    }
   ],
   "source": [
    "xgb_prediction_300 = xgb_Regressor_300.predict(x_test)\n",
    "xgb_prediction_300"
   ]
  },
  {
   "cell_type": "code",
   "execution_count": 74,
   "id": "0115879d",
   "metadata": {},
   "outputs": [
    {
     "name": "stdout",
     "output_type": "stream",
     "text": [
      "Mean Squared Error(XGB_300): 0.004348972881753329\n"
     ]
    }
   ],
   "source": [
    "print('Mean Squared Error(XGB_300):', metrics.mean_squared_error(y_test, xgb_prediction_300))\n"
   ]
  },
  {
   "cell_type": "code",
   "execution_count": 60,
   "id": "22ac4e4a",
   "metadata": {},
   "outputs": [
    {
     "data": {
      "image/png": "[encoded data removed]",
      "text/plain": [
       "<Figure size 640x480 with 1 Axes>"
      ]
     },
     "metadata": {},
     "output_type": "display_data"
    }
   ],
   "source": [
    "mse_xgb_300 = metrics.mean_squared_error(y_test, xgb_prediction_300)\n",
    "mae_xgb_300 = metrics.mean_absolute_error(y_test, xgb_prediction_300)\n",
    "rmse_xgb_300 = np.sqrt(metrics.mean_squared_error(y_test, xgb_prediction_300))\n",
    "\n",
    "# Labels for the x-axis\n",
    "errors = ['MSE', 'MAE', 'RMSE']\n",
    "\n",
    "# Values for the y-axis\n",
    "error_values = [mse_xgb_300, mae_xgb_300, rmse_xgb_300]\n",
    "\n",
    "colors = ['green']\n",
    "\n",
    "# Create the bar chart\n",
    "plt.bar(errors, error_values, color = colors)\n",
    "for i, value in enumerate(error_values):\n",
    "    plt.text(i, value, f'{value:.6f}', ha='center', va='bottom')\n",
    "# Add labels and title\n",
    "plt.xlabel('Error Metrics')\n",
    "plt.ylabel('Error Values')\n",
    "plt.title('Comparison of MSE, MAE, and RMSE (XGBoost 300)')\n",
    "plt.show()"
   ]
  },
  {
   "cell_type": "code",
   "execution_count": 61,
   "id": "06a755b0",
   "metadata": {
    "scrolled": true
   },
   "outputs": [
    {
     "name": "stderr",
     "output_type": "stream",
     "text": [
      "C:\\Users\\LIM\\anaconda3\\lib\\site-packages\\sklearn\\neural_network\\_multilayer_perceptron.py:1625: DataConversionWarning: A column-vector y was passed when a 1d array was expected. Please change the shape of y to (n_samples, ), for example using ravel().\n",
      "  y = column_or_1d(y, warn=True)\n"
     ]
    },
    {
     "data": {
      "text/html": [
       "<style>#sk-container-id-7 {color: black;}#sk-container-id-7 pre{padding: 0;}#sk-container-id-7 div.sk-toggleable {background-color: white;}#sk-container-id-7 label.sk-toggleable__label {cursor: pointer;display: block;width: 100%;margin-bottom: 0;padding: 0.3em;box-sizing: border-box;text-align: center;}#sk-container-id-7 label.sk-toggleable__label-arrow:before {content: \"▸\";float: left;margin-right: 0.25em;color: #696969;}#sk-container-id-7 label.sk-toggleable__label-arrow:hover:before {color: black;}#sk-container-id-7 div.sk-estimator:hover label.sk-toggleable__label-arrow:before {color: black;}#sk-container-id-7 div.sk-toggleable__content {max-height: 0;max-width: 0;overflow: hidden;text-align: left;background-color: #f0f8ff;}#sk-container-id-7 div.sk-toggleable__content pre {margin: 0.2em;color: black;border-radius: 0.25em;background-color: #f0f8ff;}#sk-container-id-7 input.sk-toggleable__control:checked~div.sk-toggleable__content {max-height: 200px;max-width: 100%;overflow: auto;}#sk-container-id-7 input.sk-toggleable__control:checked~label.sk-toggleable__label-arrow:before {content: \"▾\";}#sk-container-id-7 div.sk-estimator input.sk-toggleable__control:checked~label.sk-toggleable__label {background-color: #d4ebff;}#sk-container-id-7 div.sk-label input.sk-toggleable__control:checked~label.sk-toggleable__label {background-color: #d4ebff;}#sk-container-id-7 input.sk-hidden--visually {border: 0;clip: rect(1px 1px 1px 1px);clip: rect(1px, 1px, 1px, 1px);height: 1px;margin: -1px;overflow: hidden;padding: 0;position: absolute;width: 1px;}#sk-container-id-7 div.sk-estimator {font-family: monospace;background-color: #f0f8ff;border: 1px dotted black;border-radius: 0.25em;box-sizing: border-box;margin-bottom: 0.5em;}#sk-container-id-7 div.sk-estimator:hover {background-color: #d4ebff;}#sk-container-id-7 div.sk-parallel-item::after {content: \"\";width: 100%;border-bottom: 1px solid gray;flex-grow: 1;}#sk-container-id-7 div.sk-label:hover label.sk-toggleable__label {background-color: #d4ebff;}#sk-container-id-7 div.sk-serial::before {content: \"\";position: absolute;border-left: 1px solid gray;box-sizing: border-box;top: 0;bottom: 0;left: 50%;z-index: 0;}#sk-container-id-7 div.sk-serial {display: flex;flex-direction: column;align-items: center;background-color: white;padding-right: 0.2em;padding-left: 0.2em;position: relative;}#sk-container-id-7 div.sk-item {position: relative;z-index: 1;}#sk-container-id-7 div.sk-parallel {display: flex;align-items: stretch;justify-content: center;background-color: white;position: relative;}#sk-container-id-7 div.sk-item::before, #sk-container-id-7 div.sk-parallel-item::before {content: \"\";position: absolute;border-left: 1px solid gray;box-sizing: border-box;top: 0;bottom: 0;left: 50%;z-index: -1;}#sk-container-id-7 div.sk-parallel-item {display: flex;flex-direction: column;z-index: 1;position: relative;background-color: white;}#sk-container-id-7 div.sk-parallel-item:first-child::after {align-self: flex-end;width: 50%;}#sk-container-id-7 div.sk-parallel-item:last-child::after {align-self: flex-start;width: 50%;}#sk-container-id-7 div.sk-parallel-item:only-child::after {width: 0;}#sk-container-id-7 div.sk-dashed-wrapped {border: 1px dashed gray;margin: 0 0.4em 0.5em 0.4em;box-sizing: border-box;padding-bottom: 0.4em;background-color: white;}#sk-container-id-7 div.sk-label label {font-family: monospace;font-weight: bold;display: inline-block;line-height: 1.2em;}#sk-container-id-7 div.sk-label-container {text-align: center;}#sk-container-id-7 div.sk-container {/* jupyter's `normalize.less` sets `[hidden] { display: none; }` but bootstrap.min.css set `[hidden] { display: none !important; }` so we also need the `!important` here to be able to override the default hidden behavior on the sphinx rendered scikit-learn.org. See: https://github.com/scikit-learn/scikit-learn/issues/21755 */display: inline-block !important;position: relative;}#sk-container-id-7 div.sk-text-repr-fallback {display: none;}</style><div id=\"sk-container-id-7\" class=\"sk-top-container\"><div class=\"sk-text-repr-fallback\"><pre>MLPRegressor(max_iter=100, random_state=42)</pre><b>In a Jupyter environment, please rerun this cell to show the HTML representation or trust the notebook. <br />On GitHub, the HTML representation is unable to render, please try loading this page with nbviewer.org.</b></div><div class=\"sk-container\" hidden><div class=\"sk-item\"><div class=\"sk-estimator sk-toggleable\"><input class=\"sk-toggleable__control sk-hidden--visually\" id=\"sk-estimator-id-7\" type=\"checkbox\" checked><label for=\"sk-estimator-id-7\" class=\"sk-toggleable__label sk-toggleable__label-arrow\">MLPRegressor</label><div class=\"sk-toggleable__content\"><pre>MLPRegressor(max_iter=100, random_state=42)</pre></div></div></div></div></div>"
      ],
      "text/plain": [
       "MLPRegressor(max_iter=100, random_state=42)"
      ]
     },
     "execution_count": 61,
     "metadata": {},
     "output_type": "execute_result"
    }
   ],
   "source": [
    "ann_regressor = MLPRegressor(max_iter=100, random_state=42)\n",
    "ann_regressor.fit(x_train, y_train)"
   ]
  },
  {
   "cell_type": "code",
   "execution_count": 62,
   "id": "55bcf465",
   "metadata": {},
   "outputs": [
    {
     "data": {
      "text/plain": [
       "array([0.03582305, 0.06032101, 0.04505081, ..., 0.0074755 , 0.01678933,\n",
       "       0.04580476])"
      ]
     },
     "execution_count": 62,
     "metadata": {},
     "output_type": "execute_result"
    }
   ],
   "source": [
    "ann_predictions = ann_regressor.predict(x_test)\n",
    "ann_predictions\n"
   ]
  },
  {
   "cell_type": "code",
   "execution_count": 76,
   "id": "2e9623ff",
   "metadata": {},
   "outputs": [
    {
     "name": "stdout",
     "output_type": "stream",
     "text": [
      "Mean Squared Error (ANN): 0.005331421647804495\n"
     ]
    }
   ],
   "source": [
    "print('Mean Squared Error (ANN):', metrics.mean_squared_error(y_test, ann_predictions))\n"
   ]
  },
  {
   "cell_type": "code",
   "execution_count": 64,
   "id": "55bde44c",
   "metadata": {},
   "outputs": [
    {
     "data": {
      "image/png": "[encoded data removed]",
      "text/plain": [
       "<Figure size 640x480 with 1 Axes>"
      ]
     },
     "metadata": {},
     "output_type": "display_data"
    }
   ],
   "source": [
    "mse_ann = metrics.mean_squared_error(y_test, ann_predictions)\n",
    "mae_ann = metrics.mean_absolute_error(y_test, ann_predictions)\n",
    "rmse_ann = np.sqrt(metrics.mean_squared_error(y_test, ann_predictions))\n",
    "\n",
    "# Labels for the x-axis\n",
    "errors = ['MSE', 'MAE', 'RMSE']\n",
    "\n",
    "# Values for the y-axis\n",
    "error_values = [mse_ann, mae_ann, rmse_ann]\n",
    "\n",
    "colors = ['brown']\n",
    "\n",
    "# Create the bar chart\n",
    "plt.bar(errors, error_values, color = colors)\n",
    "for i, value in enumerate(error_values):\n",
    "    plt.text(i, value, f'{value:.6f}', ha='center', va='bottom')\n",
    "# Add labels and title\n",
    "plt.xlabel('Error Metrics')\n",
    "plt.ylabel('Error Values')\n",
    "plt.title('Comparison of MSE, MAE, and RMSE (ANN)')\n",
    "plt.show()"
   ]
  },
  {
   "cell_type": "code",
   "execution_count": 65,
   "id": "30032ef6",
   "metadata": {
    "scrolled": true
   },
   "outputs": [
    {
     "data": {
      "text/plain": [
       "array([0.03634006, 0.05234306, 0.04931545, ..., 0.02136175, 0.01736134,\n",
       "       0.02909732])"
      ]
     },
     "execution_count": 65,
     "metadata": {},
     "output_type": "execute_result"
    }
   ],
   "source": [
    "hybrid_predictions = (rf_400_preds + ann_predictions)/2\n",
    "hybrid_predictions"
   ]
  },
  {
   "cell_type": "code",
   "execution_count": 66,
   "id": "37d8f982",
   "metadata": {},
   "outputs": [
    {
     "name": "stdout",
     "output_type": "stream",
     "text": [
      "Mean Squared Error: 0.004546690058442203\n",
      "Mean Absolute Error: 0.04178174895526256\n",
      "Root Mean Squared Error: 0.06742914843331631\n"
     ]
    }
   ],
   "source": [
    "print('Mean Squared Error:', metrics.mean_squared_error(y_test, hybrid_predictions))\n",
    "print('Mean Absolute Error:', metrics.mean_absolute_error(y_test, hybrid_predictions))\n",
    "print('Root Mean Squared Error:',np.sqrt(metrics.mean_squared_error(y_test, hybrid_predictions)))"
   ]
  },
  {
   "cell_type": "code",
   "execution_count": 67,
   "id": "74429539",
   "metadata": {},
   "outputs": [
    {
     "data": {
      "image/png": "[encoded data removed]",
      "text/plain": [
       "<Figure size 640x480 with 1 Axes>"
      ]
     },
     "metadata": {},
     "output_type": "display_data"
    }
   ],
   "source": [
    "mse_hyb = metrics.mean_squared_error(y_test, hybrid_predictions)\n",
    "mae_hyb = metrics.mean_absolute_error(y_test, hybrid_predictions)\n",
    "rmse_hyb = np.sqrt(metrics.mean_squared_error(y_test, hybrid_predictions))\n",
    "\n",
    "# Labels for the x-axis\n",
    "errors = ['MSE', 'MAE', 'RMSE']\n",
    "\n",
    "# Values for the y-axis\n",
    "error_values = [mse_hyb, mae_hyb, rmse_hyb]\n",
    "\n",
    "colors = ['orange']\n",
    "\n",
    "# Create the bar chart\n",
    "plt.bar(errors, error_values, color = colors)\n",
    "for i, value in enumerate(error_values):\n",
    "    plt.text(i, value, f'{value:.6f}', ha='center', va='bottom')\n",
    "# Add labels and title\n",
    "plt.xlabel('Error Metrics')\n",
    "plt.ylabel('Error Values')\n",
    "plt.title('Comparison of MSE, MAE, and RMSE (HYBRID)')\n",
    "plt.show()"
   ]
  },
  {
   "cell_type": "code",
   "execution_count": 68,
   "id": "cd973a02",
   "metadata": {},
   "outputs": [
    {
     "data": {
      "text/plain": [
       "array([0.02930666, 0.03119401, 0.05296493, ..., 0.04266668, 0.01101418,\n",
       "       0.00859022])"
      ]
     },
     "execution_count": 68,
     "metadata": {},
     "output_type": "execute_result"
    }
   ],
   "source": [
    "hybrid_predictions1 = (rf_400_preds + xgb_prediction_300)/2\n",
    "hybrid_predictions1"
   ]
  },
  {
   "cell_type": "code",
   "execution_count": 69,
   "id": "a56236ac",
   "metadata": {},
   "outputs": [
    {
     "name": "stdout",
     "output_type": "stream",
     "text": [
      "Mean Squared Error: 0.00417664702311692\n",
      "Mean Absolute Error: 0.03931772801849159\n",
      "Root Mean Squared Error: 0.0646269837074029\n"
     ]
    }
   ],
   "source": [
    "print('Mean Squared Error:', metrics.mean_squared_error(y_test, hybrid_predictions1))\n",
    "print('Mean Absolute Error:', metrics.mean_absolute_error(y_test, hybrid_predictions1))\n",
    "print('Root Mean Squared Error:',np.sqrt(metrics.mean_squared_error(y_test, hybrid_predictions1)))"
   ]
  },
  {
   "cell_type": "code",
   "execution_count": 70,
   "id": "1ed537c3",
   "metadata": {},
   "outputs": [
    {
     "data": {
      "image/png": "[encoded data removed]",
      "text/plain": [
       "<Figure size 640x480 with 1 Axes>"
      ]
     },
     "metadata": {},
     "output_type": "display_data"
    }
   ],
   "source": [
    "mse_hyb = metrics.mean_squared_error(y_test, hybrid_predictions1)\n",
    "mae_hyb = metrics.mean_absolute_error(y_test, hybrid_predictions1)\n",
    "rmse_hyb = np.sqrt(metrics.mean_squared_error(y_test, hybrid_predictions1))\n",
    "\n",
    "# Labels for the x-axis\n",
    "errors = ['MSE', 'MAE', 'RMSE']\n",
    "\n",
    "# Values for the y-axis\n",
    "error_values = [mse_hyb, mae_hyb, rmse_hyb]\n",
    "\n",
    "colors = ['red']\n",
    "\n",
    "# Create the bar chart\n",
    "plt.bar(errors, error_values, color = colors)\n",
    "for i, value in enumerate(error_values):\n",
    "    plt.text(i, value, f'{value:.6f}', ha='center', va='bottom')\n",
    "# Add labels and title\n",
    "plt.xlabel('Error Metrics')\n",
    "plt.ylabel('Error Values')\n",
    "plt.title('Comparison of MSE, MAE, and RMSE (HYBRID)')\n",
    "plt.show()"
   ]
  },
  {
   "cell_type": "code",
   "execution_count": 71,
   "id": "ab629bff",
   "metadata": {
    "scrolled": true
   },
   "outputs": [
    {
     "name": "stderr",
     "output_type": "stream",
     "text": [
      "C:\\Users\\LIM\\anaconda3\\lib\\site-packages\\sklearn\\base.py:1151: DataConversionWarning: A column-vector y was passed when a 1d array was expected. Please change the shape of y to (n_samples,), for example using ravel().\n",
      "  return fit_method(estimator, *args, **kwargs)\n",
      "C:\\Users\\LIM\\anaconda3\\lib\\site-packages\\sklearn\\ensemble\\_voting.py:604: DataConversionWarning: A column-vector y was passed when a 1d array was expected. Please change the shape of y to (n_samples, ), for example using ravel().\n",
      "  y = column_or_1d(y, warn=True)\n"
     ]
    },
    {
     "data": {
      "text/html": [
       "<style>#sk-container-id-8 {color: black;}#sk-container-id-8 pre{padding: 0;}#sk-container-id-8 div.sk-toggleable {background-color: white;}#sk-container-id-8 label.sk-toggleable__label {cursor: pointer;display: block;width: 100%;margin-bottom: 0;padding: 0.3em;box-sizing: border-box;text-align: center;}#sk-container-id-8 label.sk-toggleable__label-arrow:before {content: \"▸\";float: left;margin-right: 0.25em;color: #696969;}#sk-container-id-8 label.sk-toggleable__label-arrow:hover:before {color: black;}#sk-container-id-8 div.sk-estimator:hover label.sk-toggleable__label-arrow:before {color: black;}#sk-container-id-8 div.sk-toggleable__content {max-height: 0;max-width: 0;overflow: hidden;text-align: left;background-color: #f0f8ff;}#sk-container-id-8 div.sk-toggleable__content pre {margin: 0.2em;color: black;border-radius: 0.25em;background-color: #f0f8ff;}#sk-container-id-8 input.sk-toggleable__control:checked~div.sk-toggleable__content {max-height: 200px;max-width: 100%;overflow: auto;}#sk-container-id-8 input.sk-toggleable__control:checked~label.sk-toggleable__label-arrow:before {content: \"▾\";}#sk-container-id-8 div.sk-estimator input.sk-toggleable__control:checked~label.sk-toggleable__label {background-color: #d4ebff;}#sk-container-id-8 div.sk-label input.sk-toggleable__control:checked~label.sk-toggleable__label {background-color: #d4ebff;}#sk-container-id-8 input.sk-hidden--visually {border: 0;clip: rect(1px 1px 1px 1px);clip: rect(1px, 1px, 1px, 1px);height: 1px;margin: -1px;overflow: hidden;padding: 0;position: absolute;width: 1px;}#sk-container-id-8 div.sk-estimator {font-family: monospace;background-color: #f0f8ff;border: 1px dotted black;border-radius: 0.25em;box-sizing: border-box;margin-bottom: 0.5em;}#sk-container-id-8 div.sk-estimator:hover {background-color: #d4ebff;}#sk-container-id-8 div.sk-parallel-item::after {content: \"\";width: 100%;border-bottom: 1px solid gray;flex-grow: 1;}#sk-container-id-8 div.sk-label:hover label.sk-toggleable__label {background-color: #d4ebff;}#sk-container-id-8 div.sk-serial::before {content: \"\";position: absolute;border-left: 1px solid gray;box-sizing: border-box;top: 0;bottom: 0;left: 50%;z-index: 0;}#sk-container-id-8 div.sk-serial {display: flex;flex-direction: column;align-items: center;background-color: white;padding-right: 0.2em;padding-left: 0.2em;position: relative;}#sk-container-id-8 div.sk-item {position: relative;z-index: 1;}#sk-container-id-8 div.sk-parallel {display: flex;align-items: stretch;justify-content: center;background-color: white;position: relative;}#sk-container-id-8 div.sk-item::before, #sk-container-id-8 div.sk-parallel-item::before {content: \"\";position: absolute;border-left: 1px solid gray;box-sizing: border-box;top: 0;bottom: 0;left: 50%;z-index: -1;}#sk-container-id-8 div.sk-parallel-item {display: flex;flex-direction: column;z-index: 1;position: relative;background-color: white;}#sk-container-id-8 div.sk-parallel-item:first-child::after {align-self: flex-end;width: 50%;}#sk-container-id-8 div.sk-parallel-item:last-child::after {align-self: flex-start;width: 50%;}#sk-container-id-8 div.sk-parallel-item:only-child::after {width: 0;}#sk-container-id-8 div.sk-dashed-wrapped {border: 1px dashed gray;margin: 0 0.4em 0.5em 0.4em;box-sizing: border-box;padding-bottom: 0.4em;background-color: white;}#sk-container-id-8 div.sk-label label {font-family: monospace;font-weight: bold;display: inline-block;line-height: 1.2em;}#sk-container-id-8 div.sk-label-container {text-align: center;}#sk-container-id-8 div.sk-container {/* jupyter's `normalize.less` sets `[hidden] { display: none; }` but bootstrap.min.css set `[hidden] { display: none !important; }` so we also need the `!important` here to be able to override the default hidden behavior on the sphinx rendered scikit-learn.org. See: https://github.com/scikit-learn/scikit-learn/issues/21755 */display: inline-block !important;position: relative;}#sk-container-id-8 div.sk-text-repr-fallback {display: none;}</style><div id=\"sk-container-id-8\" class=\"sk-top-container\"><div class=\"sk-text-repr-fallback\"><pre>VotingRegressor(estimators=[(&#x27;xgb&#x27;,\n",
       "                             XGBRegressor(base_score=None, booster=None,\n",
       "                                          callbacks=None,\n",
       "                                          colsample_bylevel=None,\n",
       "                                          colsample_bynode=None,\n",
       "                                          colsample_bytree=None,\n",
       "                                          early_stopping_rounds=None,\n",
       "                                          enable_categorical=False,\n",
       "                                          eval_metric=None, feature_types=None,\n",
       "                                          gamma=None, gpu_id=None,\n",
       "                                          grow_policy=None,\n",
       "                                          importance_type=None,\n",
       "                                          interaction_constraints=None,\n",
       "                                          learning_rate=0.1, max_bin=None,\n",
       "                                          max_cat_threshold=None,\n",
       "                                          max_cat_to_onehot=None,\n",
       "                                          max_delta_step=None, max_depth=None,\n",
       "                                          max_leaves=None,\n",
       "                                          min_child_weight=None, missing=nan,\n",
       "                                          monotone_constraints=None,\n",
       "                                          n_estimators=300, n_jobs=None,\n",
       "                                          num_parallel_tree=None,\n",
       "                                          predictor=None, random_state=42, ...)),\n",
       "                            (&#x27;rf&#x27;,\n",
       "                             RandomForestRegressor(max_depth=10,\n",
       "                                                   n_estimators=400,\n",
       "                                                   random_state=37))])</pre><b>In a Jupyter environment, please rerun this cell to show the HTML representation or trust the notebook. <br />On GitHub, the HTML representation is unable to render, please try loading this page with nbviewer.org.</b></div><div class=\"sk-container\" hidden><div class=\"sk-item sk-dashed-wrapped\"><div class=\"sk-label-container\"><div class=\"sk-label sk-toggleable\"><input class=\"sk-toggleable__control sk-hidden--visually\" id=\"sk-estimator-id-8\" type=\"checkbox\" ><label for=\"sk-estimator-id-8\" class=\"sk-toggleable__label sk-toggleable__label-arrow\">VotingRegressor</label><div class=\"sk-toggleable__content\"><pre>VotingRegressor(estimators=[(&#x27;xgb&#x27;,\n",
       "                             XGBRegressor(base_score=None, booster=None,\n",
       "                                          callbacks=None,\n",
       "                                          colsample_bylevel=None,\n",
       "                                          colsample_bynode=None,\n",
       "                                          colsample_bytree=None,\n",
       "                                          early_stopping_rounds=None,\n",
       "                                          enable_categorical=False,\n",
       "                                          eval_metric=None, feature_types=None,\n",
       "                                          gamma=None, gpu_id=None,\n",
       "                                          grow_policy=None,\n",
       "                                          importance_type=None,\n",
       "                                          interaction_constraints=None,\n",
       "                                          learning_rate=0.1, max_bin=None,\n",
       "                                          max_cat_threshold=None,\n",
       "                                          max_cat_to_onehot=None,\n",
       "                                          max_delta_step=None, max_depth=None,\n",
       "                                          max_leaves=None,\n",
       "                                          min_child_weight=None, missing=nan,\n",
       "                                          monotone_constraints=None,\n",
       "                                          n_estimators=300, n_jobs=None,\n",
       "                                          num_parallel_tree=None,\n",
       "                                          predictor=None, random_state=42, ...)),\n",
       "                            (&#x27;rf&#x27;,\n",
       "                             RandomForestRegressor(max_depth=10,\n",
       "                                                   n_estimators=400,\n",
       "                                                   random_state=37))])</pre></div></div></div><div class=\"sk-parallel\"><div class=\"sk-parallel-item\"><div class=\"sk-item\"><div class=\"sk-label-container\"><div class=\"sk-label sk-toggleable\"><label>xgb</label></div></div><div class=\"sk-serial\"><div class=\"sk-item\"><div class=\"sk-estimator sk-toggleable\"><input class=\"sk-toggleable__control sk-hidden--visually\" id=\"sk-estimator-id-9\" type=\"checkbox\" ><label for=\"sk-estimator-id-9\" class=\"sk-toggleable__label sk-toggleable__label-arrow\">XGBRegressor</label><div class=\"sk-toggleable__content\"><pre>XGBRegressor(base_score=None, booster=None, callbacks=None,\n",
       "             colsample_bylevel=None, colsample_bynode=None,\n",
       "             colsample_bytree=None, early_stopping_rounds=None,\n",
       "             enable_categorical=False, eval_metric=None, feature_types=None,\n",
       "             gamma=None, gpu_id=None, grow_policy=None, importance_type=None,\n",
       "             interaction_constraints=None, learning_rate=0.1, max_bin=None,\n",
       "             max_cat_threshold=None, max_cat_to_onehot=None,\n",
       "             max_delta_step=None, max_depth=None, max_leaves=None,\n",
       "             min_child_weight=None, missing=nan, monotone_constraints=None,\n",
       "             n_estimators=300, n_jobs=None, num_parallel_tree=None,\n",
       "             predictor=None, random_state=42, ...)</pre></div></div></div></div></div></div><div class=\"sk-parallel-item\"><div class=\"sk-item\"><div class=\"sk-label-container\"><div class=\"sk-label sk-toggleable\"><label>rf</label></div></div><div class=\"sk-serial\"><div class=\"sk-item\"><div class=\"sk-estimator sk-toggleable\"><input class=\"sk-toggleable__control sk-hidden--visually\" id=\"sk-estimator-id-10\" type=\"checkbox\" ><label for=\"sk-estimator-id-10\" class=\"sk-toggleable__label sk-toggleable__label-arrow\">RandomForestRegressor</label><div class=\"sk-toggleable__content\"><pre>RandomForestRegressor(max_depth=10, n_estimators=400, random_state=37)</pre></div></div></div></div></div></div></div></div></div></div>"
      ],
      "text/plain": [
       "VotingRegressor(estimators=[('xgb',\n",
       "                             XGBRegressor(base_score=None, booster=None,\n",
       "                                          callbacks=None,\n",
       "                                          colsample_bylevel=None,\n",
       "                                          colsample_bynode=None,\n",
       "                                          colsample_bytree=None,\n",
       "                                          early_stopping_rounds=None,\n",
       "                                          enable_categorical=False,\n",
       "                                          eval_metric=None, feature_types=None,\n",
       "                                          gamma=None, gpu_id=None,\n",
       "                                          grow_policy=None,\n",
       "                                          importance_type=None,\n",
       "                                          interaction_constraints=None,\n",
       "                                          learning_rate=0.1, max_bin=None,\n",
       "                                          max_cat_threshold=None,\n",
       "                                          max_cat_to_onehot=None,\n",
       "                                          max_delta_step=None, max_depth=None,\n",
       "                                          max_leaves=None,\n",
       "                                          min_child_weight=None, missing=nan,\n",
       "                                          monotone_constraints=None,\n",
       "                                          n_estimators=300, n_jobs=None,\n",
       "                                          num_parallel_tree=None,\n",
       "                                          predictor=None, random_state=42, ...)),\n",
       "                            ('rf',\n",
       "                             RandomForestRegressor(max_depth=10,\n",
       "                                                   n_estimators=400,\n",
       "                                                   random_state=37))])"
      ]
     },
     "execution_count": 71,
     "metadata": {},
     "output_type": "execute_result"
    }
   ],
   "source": [
    "#Train Random Forest and XGBoost models on the training data\n",
    "rf_model_400 = RandomForestRegressor(n_estimators=400, max_depth=10, random_state=37)\n",
    "xgb_Regressor_300 = XGBRegressor(n_estimators=300, learning_rate=0.1, random_state=42)\n",
    "\n",
    "# Create the ensemble regressor\n",
    "ensemble_Regressor = VotingRegressor(\n",
    "    estimators=[('xgb', xgb_Regressor_300), ('rf', rf_model_400)]\n",
    ")\n",
    "\n",
    "# Train the individual regressor\n",
    "rf_model_400.fit(x_train, y_train)\n",
    "xgb_Regressor_300.fit(x_train, y_train)\n",
    "\n",
    "# Train the ensemble regressorD\n",
    "ensemble_Regressor.fit(x_train, y_train)\n",
    "\n",
    "\n",
    "\n"
   ]
  },
  {
   "cell_type": "code",
   "execution_count": 72,
   "id": "23914934",
   "metadata": {},
   "outputs": [
    {
     "data": {
      "text/plain": [
       "array([0.02930666, 0.03119401, 0.05296493, ..., 0.04266668, 0.01101418,\n",
       "       0.00859022])"
      ]
     },
     "execution_count": 72,
     "metadata": {},
     "output_type": "execute_result"
    }
   ],
   "source": [
    "# Make predictions on the test data using ensemble model\n",
    "ensemble_predictions = ensemble_Regressor.predict(x_test)\n",
    "ensemble_predictions"
   ]
  },
  {
   "cell_type": "code",
   "execution_count": 77,
   "id": "1b807b2b",
   "metadata": {},
   "outputs": [
    {
     "name": "stdout",
     "output_type": "stream",
     "text": [
      "Mean Squared Error (HYBRID): 0.00417664702311692\n"
     ]
    }
   ],
   "source": [
    "print('Mean Squared Error (HYBRID):', metrics.mean_squared_error(y_test, ensemble_predictions))"
   ]
  },
  {
   "cell_type": "code",
   "execution_count": 81,
   "id": "f60960c8",
   "metadata": {},
   "outputs": [
    {
     "data": {
      "image/png": "[encoded data removed]",
      "text/plain": [
       "<Figure size 640x480 with 1 Axes>"
      ]
     },
     "metadata": {},
     "output_type": "display_data"
    }
   ],
   "source": [
    "mse_rf = metrics.mean_squared_error(y_test, rf_400_preds)\n",
    "mse_xgb = metrics.mean_squared_error(y_test, xgb_prediction_300)\n",
    "mse_ann = metrics.mean_squared_error(y_test, ann_predictions)\n",
    "mse_hyb = metrics.mean_squared_error(y_test, ensemble_predictions)\n",
    "\n",
    "# Labels for the x-axis\n",
    "errors = ['MSE(RF)', 'MSE(XGB)', 'MSE(ANN)', 'MSE(HYB)']\n",
    "\n",
    "# Values for the y-axis\n",
    "error_values = [mse_rf, mse_xgb, mse_ann, mse_hyb]\n",
    "\n",
    "colors = ['blue', 'red', 'brown', 'green']\n",
    "\n",
    "# Create the bar chart\n",
    "plt.bar(errors, error_values, color = colors)\n",
    "for i, value in enumerate(error_values):\n",
    "    plt.text(i, value, f'{value:.6f}', ha='center', va='bottom')\n",
    "# Add labels and title\n",
    "plt.xlabel('Evaluation Metric')\n",
    "plt.ylabel('Error Values')\n",
    "plt.title('Comparison of the machine learning model')\n",
    "plt.show()"
   ]
  }
 ],
 "metadata": {
  "kernelspec": {
   "display_name": "Python 3 (ipykernel)",
   "language": "python",
   "name": "python3"
  },
  "language_info": {
   "codemirror_mode": {
    "name": "ipython",
    "version": 3
   },
   "file_extension": ".py",
   "mimetype": "text/x-python",
   "name": "python",
   "nbconvert_exporter": "python",
   "pygments_lexer": "ipython3",
   "version": "3.9.13"
  }
 },
 "nbformat": 4,
 "nbformat_minor": 5
}
